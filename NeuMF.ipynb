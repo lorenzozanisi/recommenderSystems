{
  "nbformat": 4,
  "nbformat_minor": 0,
  "metadata": {
    "colab": {
      "name": "NeuMF.ipynb",
      "provenance": [],
      "authorship_tag": "ABX9TyNo+3pnZO/DfN204utKS7Kr",
      "include_colab_link": true
    },
    "kernelspec": {
      "name": "python3",
      "display_name": "Python 3"
    }
  },
  "cells": [
    {
      "cell_type": "markdown",
      "metadata": {
        "id": "view-in-github",
        "colab_type": "text"
      },
      "source": [
        "<a href=\"https://colab.research.google.com/github/lorenzozanisi/recommenderSystems/blob/master/NeuMF.ipynb\" target=\"_parent\"><img src=\"https://colab.research.google.com/assets/colab-badge.svg\" alt=\"Open In Colab\"/></a>"
      ]
    },
    {
      "cell_type": "code",
      "metadata": {
        "id": "x2aNwafjZpGU"
      },
      "source": [
        "import tensorflow as tf\n",
        "import tensorflow.keras.layers as Layers\n",
        "from tensorflow.keras.layers.experimental.preprocessing import CategoryEncoding\n",
        "from tensorflow.keras.models import Model"
      ],
      "execution_count": 78,
      "outputs": []
    },
    {
      "cell_type": "code",
      "metadata": {
        "colab": {
          "base_uri": "https://localhost:8080/"
        },
        "id": "HTznZnikZ45o",
        "outputId": "94dfcaf3-6a54-4684-dd26-b20d98e2b720"
      },
      "source": [
        "!wget 'http://files.grouplens.org/datasets/movielens/ml-100k.zip'\n",
        "!unzip ml-100k.zip"
      ],
      "execution_count": 174,
      "outputs": [
        {
          "output_type": "stream",
          "text": [
            "--2021-02-26 22:45:38--  http://files.grouplens.org/datasets/movielens/ml-100k.zip\n",
            "Resolving files.grouplens.org (files.grouplens.org)... 128.101.65.152\n",
            "Connecting to files.grouplens.org (files.grouplens.org)|128.101.65.152|:80... connected.\n",
            "HTTP request sent, awaiting response... 200 OK\n",
            "Length: 4924029 (4.7M) [application/zip]\n",
            "Saving to: ‘ml-100k.zip’\n",
            "\n",
            "ml-100k.zip         100%[===================>]   4.70M  16.1MB/s    in 0.3s    \n",
            "\n",
            "2021-02-26 22:45:38 (16.1 MB/s) - ‘ml-100k.zip’ saved [4924029/4924029]\n",
            "\n",
            "Archive:  ml-100k.zip\n",
            "   creating: ml-100k/\n",
            "  inflating: ml-100k/allbut.pl       \n",
            "  inflating: ml-100k/mku.sh          \n",
            "  inflating: ml-100k/README          \n",
            "  inflating: ml-100k/u.data          \n",
            "  inflating: ml-100k/u.genre         \n",
            "  inflating: ml-100k/u.info          \n",
            "  inflating: ml-100k/u.item          \n",
            "  inflating: ml-100k/u.occupation    \n",
            "  inflating: ml-100k/u.user          \n",
            "  inflating: ml-100k/u1.base         \n",
            "  inflating: ml-100k/u1.test         \n",
            "  inflating: ml-100k/u2.base         \n",
            "  inflating: ml-100k/u2.test         \n",
            "  inflating: ml-100k/u3.base         \n",
            "  inflating: ml-100k/u3.test         \n",
            "  inflating: ml-100k/u4.base         \n",
            "  inflating: ml-100k/u4.test         \n",
            "  inflating: ml-100k/u5.base         \n",
            "  inflating: ml-100k/u5.test         \n",
            "  inflating: ml-100k/ua.base         \n",
            "  inflating: ml-100k/ua.test         \n",
            "  inflating: ml-100k/ub.base         \n",
            "  inflating: ml-100k/ub.test         \n"
          ],
          "name": "stdout"
        }
      ]
    },
    {
      "cell_type": "code",
      "metadata": {
        "id": "vYObk6ajebzg"
      },
      "source": [
        "import pandas as pd\n",
        "data = pd.read_csv('ml-100k/u.data', sep='\\t', names=['userID','itemID','rating','timestamp'])\n",
        "data = data.drop(columns='timestamp')\n"
      ],
      "execution_count": 175,
      "outputs": []
    },
    {
      "cell_type": "code",
      "metadata": {
        "colab": {
          "base_uri": "https://localhost:8080/",
          "height": 363
        },
        "id": "haP2tc8BjbMo",
        "outputId": "30b544d3-21cb-4856-f174-3168a1e49be6"
      },
      "source": [
        "data.head(10)"
      ],
      "execution_count": 177,
      "outputs": [
        {
          "output_type": "execute_result",
          "data": {
            "text/html": [
              "<div>\n",
              "<style scoped>\n",
              "    .dataframe tbody tr th:only-of-type {\n",
              "        vertical-align: middle;\n",
              "    }\n",
              "\n",
              "    .dataframe tbody tr th {\n",
              "        vertical-align: top;\n",
              "    }\n",
              "\n",
              "    .dataframe thead th {\n",
              "        text-align: right;\n",
              "    }\n",
              "</style>\n",
              "<table border=\"1\" class=\"dataframe\">\n",
              "  <thead>\n",
              "    <tr style=\"text-align: right;\">\n",
              "      <th></th>\n",
              "      <th>userID</th>\n",
              "      <th>itemID</th>\n",
              "      <th>rating</th>\n",
              "    </tr>\n",
              "  </thead>\n",
              "  <tbody>\n",
              "    <tr>\n",
              "      <th>0</th>\n",
              "      <td>196</td>\n",
              "      <td>242</td>\n",
              "      <td>3</td>\n",
              "    </tr>\n",
              "    <tr>\n",
              "      <th>1</th>\n",
              "      <td>186</td>\n",
              "      <td>302</td>\n",
              "      <td>3</td>\n",
              "    </tr>\n",
              "    <tr>\n",
              "      <th>2</th>\n",
              "      <td>22</td>\n",
              "      <td>377</td>\n",
              "      <td>1</td>\n",
              "    </tr>\n",
              "    <tr>\n",
              "      <th>3</th>\n",
              "      <td>244</td>\n",
              "      <td>51</td>\n",
              "      <td>2</td>\n",
              "    </tr>\n",
              "    <tr>\n",
              "      <th>4</th>\n",
              "      <td>166</td>\n",
              "      <td>346</td>\n",
              "      <td>1</td>\n",
              "    </tr>\n",
              "    <tr>\n",
              "      <th>5</th>\n",
              "      <td>298</td>\n",
              "      <td>474</td>\n",
              "      <td>4</td>\n",
              "    </tr>\n",
              "    <tr>\n",
              "      <th>6</th>\n",
              "      <td>115</td>\n",
              "      <td>265</td>\n",
              "      <td>2</td>\n",
              "    </tr>\n",
              "    <tr>\n",
              "      <th>7</th>\n",
              "      <td>253</td>\n",
              "      <td>465</td>\n",
              "      <td>5</td>\n",
              "    </tr>\n",
              "    <tr>\n",
              "      <th>8</th>\n",
              "      <td>305</td>\n",
              "      <td>451</td>\n",
              "      <td>3</td>\n",
              "    </tr>\n",
              "    <tr>\n",
              "      <th>9</th>\n",
              "      <td>6</td>\n",
              "      <td>86</td>\n",
              "      <td>3</td>\n",
              "    </tr>\n",
              "  </tbody>\n",
              "</table>\n",
              "</div>"
            ],
            "text/plain": [
              "   userID  itemID  rating\n",
              "0     196     242       3\n",
              "1     186     302       3\n",
              "2      22     377       1\n",
              "3     244      51       2\n",
              "4     166     346       1\n",
              "5     298     474       4\n",
              "6     115     265       2\n",
              "7     253     465       5\n",
              "8     305     451       3\n",
              "9       6      86       3"
            ]
          },
          "metadata": {
            "tags": []
          },
          "execution_count": 177
        }
      ]
    },
    {
      "cell_type": "code",
      "metadata": {
        "id": "w7l2TqvfajBA"
      },
      "source": [
        "from sklearn.model_selection import train_test_split\n",
        "\n",
        "train,test = train_test_split(data,test_size=0.2)\n",
        "\n",
        "train_val_split = 0.2\n",
        "Nval = int(len(train)*train_val_split)\n",
        "\n",
        "val = train.loc[:Nval,:]\n",
        "val_labels = val.pop('rating')\n",
        "\n",
        "train = train.loc[Nval:,:]\n",
        "train_labels = train.pop('rating')\n",
        "\n",
        "\n",
        "trainset = tf.data.Dataset.from_tensor_slices((dict(train), train_labels)).shuffle(buffer_size=len(train)).batch(32)\n",
        "validset = tf.data.Dataset.from_tensor_slices((dict(val), val_labels)).batch(32)"
      ],
      "execution_count": 148,
      "outputs": []
    },
    {
      "cell_type": "code",
      "metadata": {
        "id": "ah-WLrP7nxyN"
      },
      "source": [
        "# adapted from https://keras.io/examples/structured_data/structured_data_classification_from_scratch/\n",
        "def encode_integer_categorical_feature(feature, name, dataset):\n",
        "    # Create a CategoryEncoding for our integer indices\n",
        "    encoder = CategoryEncoding(output_mode=\"binary\")\n",
        "\n",
        "    # Prepare a Dataset that only yields our feature\n",
        "    feature_ds = dataset.map(lambda x,y: tf.expand_dims(x[name],-1))\n",
        "\n",
        "    # Learn the space of possible indices\n",
        "    encoder.adapt(feature_ds)\n",
        "\n",
        "    # Apply one-hot encoding to our indices\n",
        "    encoded_feature = encoder(feature)\n",
        "    return encoded_feature\n"
      ],
      "execution_count": 116,
      "outputs": []
    },
    {
      "cell_type": "markdown",
      "metadata": {
        "id": "5kzMQHaM2ZVS"
      },
      "source": [
        ""
      ]
    },
    {
      "cell_type": "code",
      "metadata": {
        "id": "AP0ZfUwHnf92"
      },
      "source": [
        "#preprocess withone hot encoding\n",
        "user = Layers.Input(shape=(1,),name='userID')\n",
        "item = Layers.Input(shape=(1,),name='itemID')\n",
        "user_encoded = encode_integer_categorical_feature(user, \"userID\", trainset)\n",
        "item_encoded = encode_integer_categorical_feature(item, \"itemID\", trainset)\n",
        "\n"
      ],
      "execution_count": 136,
      "outputs": []
    },
    {
      "cell_type": "code",
      "metadata": {
        "id": "n4ylZPIowmUm"
      },
      "source": [
        "MF_embedding_size = 64\n",
        "MLP_embedding_size = 128\n",
        "\n",
        "\n",
        "#GMF branch\n",
        "\n",
        "embed_MF_user = Layers.Dense(MF_embedding_size)(user_encoded)\n",
        "embed_MF_item = Layers.Dense(MF_embedding_size)(item_encoded)\n",
        "GMF = Layers.Dot(axes=(1))([embed_MF_user, embed_MF_item])\n",
        "\n",
        "Dense_user = Layers.Dense(MLP_embedding_size)(user_encoded)\n",
        "Dense_item = Layers.Dense(MLP_embedding_size)(item_encoded)\n",
        "concatenate_1 = Layers.concatenate([Dense_user, Dense_item])\n",
        "\n",
        "d1 = Layers.Dense(128, activation='relu')(concatenate_1)\n",
        "d2 = Layers.Dense(128, activation='relu')(d1)\n",
        "d3 = Layers.Dense(64, activation='relu')(d2)\n",
        "\n",
        "NeuMF = Layers.concatenate([d3,GMF])\n",
        "\n",
        "prediction = Layers.Dense(1)(NeuMF)\n",
        "\n"
      ],
      "execution_count": 150,
      "outputs": []
    },
    {
      "cell_type": "code",
      "metadata": {
        "id": "DGF72H2hssjf"
      },
      "source": [
        "import numpy as np\n",
        "\n",
        "all_inputs = Layers.concatenate([user_encoded,item_encoded])\n",
        "m = Model([user,item], NeuMF)\n",
        "m.compile(optimizer=tf.optimizers.Adam(learning_rate=0.001),\n",
        "          loss='mean_squared_error' )\n"
      ],
      "execution_count": 151,
      "outputs": []
    },
    {
      "cell_type": "code",
      "metadata": {
        "colab": {
          "base_uri": "https://localhost:8080/"
        },
        "id": "PGmVe6utd5hq",
        "outputId": "5f26595e-d6a4-4d4a-9321-a7974842fed3"
      },
      "source": [
        "history = m.fit(trainset, epochs=10, validation_data=validset)"
      ],
      "execution_count": 152,
      "outputs": [
        {
          "output_type": "stream",
          "text": [
            "Epoch 1/10\n",
            "762/762 [==============================] - 9s 11ms/step - loss: 3.1981 - val_loss: 1.1683\n",
            "Epoch 2/10\n",
            "762/762 [==============================] - 8s 11ms/step - loss: 1.1099 - val_loss: 1.1594\n",
            "Epoch 3/10\n",
            "762/762 [==============================] - 8s 10ms/step - loss: 0.9217 - val_loss: 1.0260\n",
            "Epoch 4/10\n",
            "762/762 [==============================] - 8s 11ms/step - loss: 0.8684 - val_loss: 0.9746\n",
            "Epoch 5/10\n",
            "762/762 [==============================] - 8s 10ms/step - loss: 0.8313 - val_loss: 0.9454\n",
            "Epoch 6/10\n",
            "762/762 [==============================] - 8s 10ms/step - loss: 0.8250 - val_loss: 0.9539\n",
            "Epoch 7/10\n",
            "762/762 [==============================] - 8s 10ms/step - loss: 0.7847 - val_loss: 0.9565\n",
            "Epoch 8/10\n",
            "762/762 [==============================] - 8s 10ms/step - loss: 0.7374 - val_loss: 1.0138\n",
            "Epoch 9/10\n",
            "762/762 [==============================] - 8s 10ms/step - loss: 0.6910 - val_loss: 0.9944\n",
            "Epoch 10/10\n",
            "762/762 [==============================] - 8s 11ms/step - loss: 0.6469 - val_loss: 1.0579\n"
          ],
          "name": "stdout"
        }
      ]
    },
    {
      "cell_type": "code",
      "metadata": {
        "colab": {
          "base_uri": "https://localhost:8080/",
          "height": 283
        },
        "id": "r3cyrXNIgRzZ",
        "outputId": "8d4e67d0-df97-47d4-af3d-2b1eddcb8e0a"
      },
      "source": [
        "import matplotlib.pylab as plt\n",
        "epoch = np.arange(10)\n",
        "plt.plot(epoch,history.history['loss'],color='red', label='loss')\n",
        "plt.plot(epoch,history.history['val_loss'],color='blue', label='val loss')\n",
        "plt.legend()"
      ],
      "execution_count": 159,
      "outputs": [
        {
          "output_type": "execute_result",
          "data": {
            "text/plain": [
              "<matplotlib.legend.Legend at 0x7fd933df5850>"
            ]
          },
          "metadata": {
            "tags": []
          },
          "execution_count": 159
        },
        {
          "output_type": "display_data",
          "data": {
            "image/png": "[encoded data removed]",
            "text/plain": [
              "<Figure size 432x288 with 1 Axes>"
            ]
          },
          "metadata": {
            "tags": [],
            "needs_background": "light"
          }
        }
      ]
    },
    {
      "cell_type": "code",
      "metadata": {
        "id": "LMTpO-3FfA_Z"
      },
      "source": [
        ""
      ],
      "execution_count": null,
      "outputs": []
    }
  ]
}