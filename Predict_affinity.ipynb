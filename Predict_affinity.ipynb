{
  "nbformat": 4,
  "nbformat_minor": 0,
  "metadata": {
    "colab": {
      "name": "Predict_affinity.ipynb",
      "provenance": [],
      "collapsed_sections": [],
      "authorship_tag": "ABX9TyMv2JefrB0Ney3Z68k/f7sl",
      "include_colab_link": true
    },
    "kernelspec": {
      "name": "python3",
      "display_name": "Python 3"
    }
  },
  "cells": [
    {
      "cell_type": "markdown",
      "metadata": {
        "id": "view-in-github",
        "colab_type": "text"
      },
      "source": [
        "<a href=\"https://colab.research.google.com/github/lorenzozanisi/recommenderSystems/blob/master/Predict_affinity.ipynb\" target=\"_parent\"><img src=\"https://colab.research.google.com/assets/colab-badge.svg\" alt=\"Open In Colab\"/></a>"
      ]
    },
    {
      "cell_type": "code",
      "metadata": {
        "id": "m00zdYQnwnxi"
      },
      "source": [
        "import tensorflow as tf\n",
        "import tensorflow.keras.layers as Layers\n",
        "from tensorflow.keras.layers.experimental.preprocessing import CategoryEncoding\n",
        "from tensorflow.keras.models import Model\n",
        "from google.colab import files\n",
        "import pandas as pd\n",
        "from sklearn.model_selection import train_test_split\n",
        "from tensorflow.keras.callbacks import EarlyStopping\n",
        "from sklearn.preprocessing import Normalizer, MinMaxScaler, LabelEncoder, OneHotEncoder\n",
        "callbacks = [\n",
        "        EarlyStopping(\n",
        "        # Stop training when `val_loss` is no longer improving\n",
        "        monitor=\"val_loss\",\n",
        "        # \"no longer improving\" being defined as \"no better than 1e-2 less\"\n",
        "        min_delta=1e-2,\n",
        "        # \"no longer improving\" being further defined as \"for at least 2 epochs\"\n",
        "        patience=2,\n",
        "        verbose=1,\n",
        "    )\n",
        "]"
      ],
      "execution_count": 38,
      "outputs": []
    },
    {
      "cell_type": "code",
      "metadata": {
        "id": "J1qsMgsa6SUt"
      },
      "source": [
        "# adapted from https://keras.io/examples/structured_data/structured_data_classification_from_scratch/\n",
        "def encode_integer_categorical_feature(feature, name, dataset):\n",
        "    # Create a CategoryEncoding for our integer indices\n",
        "    encoder = CategoryEncoding(output_mode=\"binary\")\n",
        "\n",
        "    # Prepare a Dataset that only yields our feature\n",
        "    feature_ds = dataset.map(lambda x,y: tf.expand_dims(x[name],-1))\n",
        "\n",
        "    # Learn the space of possible indices\n",
        "    encoder.adapt(feature_ds)\n",
        "\n",
        "    # Apply one-hot encoding to our indices\n",
        "    encoded_feature = encoder(feature)\n",
        "    return encoded_feature\n"
      ],
      "execution_count": 39,
      "outputs": []
    },
    {
      "cell_type": "code",
      "metadata": {
        "id": "ErE6EclRoFoy"
      },
      "source": [
        ""
      ],
      "execution_count": null,
      "outputs": []
    },
    {
      "cell_type": "markdown",
      "metadata": {
        "id": "LQqm5mKxoHAk"
      },
      "source": [
        "Upload files from local\n"
      ]
    },
    {
      "cell_type": "code",
      "metadata": {
        "colab": {
          "resources": {
            "http://localhost:8080/nbextensions/google.colab/files.js": {
              "data": "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",
              "ok": true,
              "headers": [
                [
                  "content-type",
                  "application/javascript"
                ]
              ],
              "status": 200,
              "status_text": "OK"
            }
          },
          "base_uri": "https://localhost:8080/",
          "height": 79
        },
        "id": "8qG0vhBFwzvx",
        "outputId": "e08afdde-155a-4de3-a011-36b108f579a0"
      },
      "source": [
        "train = files.upload()"
      ],
      "execution_count": 40,
      "outputs": [
        {
          "output_type": "display_data",
          "data": {
            "text/html": [
              "\n",
              "     <input type=\"file\" id=\"files-5a113819-2442-4182-98f8-0856a6d4818d\" name=\"files[]\" multiple disabled\n",
              "        style=\"border:none\" />\n",
              "     <output id=\"result-5a113819-2442-4182-98f8-0856a6d4818d\">\n",
              "      Upload widget is only available when the cell has been executed in the\n",
              "      current browser session. Please rerun this cell to enable.\n",
              "      </output>\n",
              "      <script src=\"/nbextensions/google.colab/files.js\"></script> "
            ],
            "text/plain": [
              "<IPython.core.display.HTML object>"
            ]
          },
          "metadata": {
            "tags": []
          }
        },
        {
          "output_type": "stream",
          "text": [
            "Saving train2.csv to train2 (1).csv\n"
          ],
          "name": "stdout"
        }
      ]
    },
    {
      "cell_type": "code",
      "metadata": {
        "colab": {
          "resources": {
            "http://localhost:8080/nbextensions/google.colab/files.js": {
              "data": "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",
              "ok": true,
              "headers": [
                [
                  "content-type",
                  "application/javascript"
                ]
              ],
              "status": 200,
              "status_text": "OK"
            }
          },
          "base_uri": "https://localhost:8080/",
          "height": 79
        },
        "id": "v_lfuQo0xF8i",
        "outputId": "bf4c13c6-1f96-4a2d-cf00-5e54d57f02d4"
      },
      "source": [
        "test = files.upload()"
      ],
      "execution_count": 41,
      "outputs": [
        {
          "output_type": "display_data",
          "data": {
            "text/html": [
              "\n",
              "     <input type=\"file\" id=\"files-bf7da792-7188-4c46-81f4-ce1b8b55adfa\" name=\"files[]\" multiple disabled\n",
              "        style=\"border:none\" />\n",
              "     <output id=\"result-bf7da792-7188-4c46-81f4-ce1b8b55adfa\">\n",
              "      Upload widget is only available when the cell has been executed in the\n",
              "      current browser session. Please rerun this cell to enable.\n",
              "      </output>\n",
              "      <script src=\"/nbextensions/google.colab/files.js\"></script> "
            ],
            "text/plain": [
              "<IPython.core.display.HTML object>"
            ]
          },
          "metadata": {
            "tags": []
          }
        },
        {
          "output_type": "stream",
          "text": [
            "Saving test2.csv to test2.csv\n"
          ],
          "name": "stdout"
        }
      ]
    },
    {
      "cell_type": "code",
      "metadata": {
        "colab": {
          "resources": {
            "http://localhost:8080/nbextensions/google.colab/files.js": {
              "data": "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",
              "ok": true,
              "headers": [
                [
                  "content-type",
                  "application/javascript"
                ]
              ],
              "status": 200,
              "status_text": "OK"
            }
          },
          "base_uri": "https://localhost:8080/",
          "height": 79
        },
        "id": "cXCoQMCZw2eo",
        "outputId": "5978bff0-c2e8-418a-a580-f40402ffbdd0"
      },
      "source": [
        "tokens = files.upload()"
      ],
      "execution_count": 42,
      "outputs": [
        {
          "output_type": "display_data",
          "data": {
            "text/html": [
              "\n",
              "     <input type=\"file\" id=\"files-65176829-0124-4bd6-93d3-07cbdef1587b\" name=\"files[]\" multiple disabled\n",
              "        style=\"border:none\" />\n",
              "     <output id=\"result-65176829-0124-4bd6-93d3-07cbdef1587b\">\n",
              "      Upload widget is only available when the cell has been executed in the\n",
              "      current browser session. Please rerun this cell to enable.\n",
              "      </output>\n",
              "      <script src=\"/nbextensions/google.colab/files.js\"></script> "
            ],
            "text/plain": [
              "<IPython.core.display.HTML object>"
            ]
          },
          "metadata": {
            "tags": []
          }
        },
        {
          "output_type": "stream",
          "text": [
            "Saving tokens2.csv to tokens2.csv\n"
          ],
          "name": "stdout"
        }
      ]
    },
    {
      "cell_type": "code",
      "metadata": {
        "id": "ndphpN2FxB8A"
      },
      "source": [
        "tokens = pd.read_csv('tokens2.csv')"
      ],
      "execution_count": 43,
      "outputs": []
    },
    {
      "cell_type": "code",
      "metadata": {
        "id": "QvQEDxqzxZii"
      },
      "source": [
        "tokens = tokens.drop(columns='creator')"
      ],
      "execution_count": 44,
      "outputs": []
    },
    {
      "cell_type": "code",
      "metadata": {
        "id": "GI-xMYP4tdVN"
      },
      "source": [
        "train = pd.read_csv('train2.csv')\n",
        "train = train.drop(columns='buyer')"
      ],
      "execution_count": 45,
      "outputs": []
    },
    {
      "cell_type": "code",
      "metadata": {
        "id": "mVAzZypBtF0N"
      },
      "source": [
        "test = pd.read_csv('test2.csv')"
      ],
      "execution_count": 50,
      "outputs": []
    },
    {
      "cell_type": "code",
      "metadata": {
        "id": "WjcyxQLXsocE"
      },
      "source": [
        "train = train.merge(tokens, on='tokenId')"
      ],
      "execution_count": 51,
      "outputs": []
    },
    {
      "cell_type": "code",
      "metadata": {
        "id": "l4FVHxkGsofx"
      },
      "source": [
        "test = test.merge(tokens, on='tokenId')"
      ],
      "execution_count": 52,
      "outputs": []
    },
    {
      "cell_type": "code",
      "metadata": {
        "colab": {
          "base_uri": "https://localhost:8080/"
        },
        "id": "itCs1gKDtNNg",
        "outputId": "3609002d-8060-4587-9917-9c2c84e11f2d"
      },
      "source": [
        "for c in test.columns:\n",
        "  print(c+': '+str(len(test[~test[c].isna()])/len(test)))"
      ],
      "execution_count": 57,
      "outputs": [
        {
          "output_type": "stream",
          "text": [
            "buyerId: 1.0\n",
            "tokenId: 1.0\n",
            "buyer: 1.0\n",
            "name: 1.0\n",
            "description: 0.9931140015302219\n",
            "tags: 1.0\n",
            "image: 1.0\n",
            "media: 0.5516449885233359\n",
            "type: 0.5516449885233359\n",
            "size: 0.5516449885233359\n",
            "dimensions: 0.5378729915837797\n",
            "creatorId: 1.0\n"
          ],
          "name": "stdout"
        }
      ]
    },
    {
      "cell_type": "code",
      "metadata": {
        "id": "PYE8LdeloPhA"
      },
      "source": [
        ""
      ],
      "execution_count": null,
      "outputs": []
    },
    {
      "cell_type": "markdown",
      "metadata": {
        "id": "nXGCsv_EoQl4"
      },
      "source": [
        "Prepare data for 3-entry NeuMF model\n"
      ]
    },
    {
      "cell_type": "code",
      "metadata": {
        "id": "xLtdzTZCs-GG"
      },
      "source": [
        "merged = merged[['buyerId','tokenId','creatorId','affinity']]\n",
        "merged_labels = merged['affinity'].values\n",
        "MergedDataSet = tf.data.Dataset.from_tensor_slices((dict(merged), merged_labels)).shuffle(buffer_size=len(merged)).batch(32)"
      ],
      "execution_count": 431,
      "outputs": []
    },
    {
      "cell_type": "code",
      "metadata": {
        "id": "fUsEUjhxsojM"
      },
      "source": [
        "train, test = train_test_split(merged, test_size= 0.2)\n",
        "test_labels = test.pop('affinity')\n",
        "\n",
        "train_val_split = 0.2\n",
        "Nval = int(len(train)*train_val_split)\n",
        "val = train.loc[:Nval,:]\n",
        "val_labels = val.pop('affinity')\n",
        "\n",
        "train = train.loc[Nval:,:]\n",
        "train_labels = train.pop('affinity')\n",
        "\n",
        "\n",
        "trainset = tf.data.Dataset.from_tensor_slices((dict(train), train_labels)).shuffle(buffer_size=len(train)).batch(32)\n",
        "validset = tf.data.Dataset.from_tensor_slices((dict(val), val_labels)).batch(32)\n",
        "testset =  tf.data.Dataset.from_tensor_slices((dict(test), test_labels)).batch(32)"
      ],
      "execution_count": 406,
      "outputs": []
    },
    {
      "cell_type": "code",
      "metadata": {
        "id": "DVse-Uems9ka"
      },
      "source": [
        "#preprocess withone hot encoding\n",
        "user = Layers.Input(shape=(1,),name='buyerId')\n",
        "item = Layers.Input(shape=(1,),name='tokenId')\n",
        "artist = Layers.Input(shape=(1,),name='creatorId')\n",
        "\n",
        "user_encoded = encode_integer_categorical_feature(user, \"buyerId\", MergedDataSet)\n",
        "item_encoded = encode_integer_categorical_feature(item, \"tokenId\", MergedDataSet)\n",
        "artist_encoded = encode_integer_categorical_feature(artist, \"creatorId\", MergedDataSet)"
      ],
      "execution_count": 407,
      "outputs": []
    },
    {
      "cell_type": "code",
      "metadata": {
        "id": "ADfw0rhjsol8"
      },
      "source": [
        "def NeuMF_with_artists(inputs,inputs_encoded, MF_ui_embedding_size = 32,\n",
        "                       MF_ua_embedding_size =48, MLP_embedding_size = 32,\n",
        "                       dropout=0.0):\n",
        "\n",
        "  \n",
        "  user_encoded, item_encoded, artist_encoded = inputs_encoded\n",
        "  user, item, artist = inputs\n",
        "\n",
        "  #GMF branches\n",
        "\n",
        "  #1. user-item\n",
        "\n",
        "  embed_MF_ui_user = Layers.Dense(MF_ui_embedding_size)(user_encoded)\n",
        "  embed_MF_ui_item = Layers.Dense(MF_ui_embedding_size)(item_encoded)\n",
        "  GMF_ui = Layers.Multiply()([embed_MF_ui_user, embed_MF_ui_item])\n",
        "\n",
        "  #2. user-artist\n",
        "\n",
        "  embed_MF_ua_user = Layers.Dense(MF_ua_embedding_size)(user_encoded)\n",
        "  embed_MF_ua_artist = Layers.Dense(MF_ua_embedding_size)(artist_encoded)\n",
        "  GMF_ua = Layers.Multiply()([embed_MF_ua_user, embed_MF_ua_artist])\n",
        "\n",
        "\n",
        "  #Dense branches\n",
        "\n",
        "  #1. user-item \n",
        "\n",
        "  Dense_user_ui = Layers.Dense(MLP_embedding_size)(user_encoded)\n",
        "  Dense_item_ui = Layers.Dense(MLP_embedding_size)(item_encoded)\n",
        "  concatenate_1_ui = Layers.concatenate([Dense_user_ui, Dense_item_ui])\n",
        "\n",
        "  d1_ui = Layers.Dense(64, activation='relu')(concatenate_1_ui)\n",
        "  dropout1_ui = Layers.Dropout(dropout)(d1_ui)\n",
        "  d2_ui = Layers.Dense(32, activation='relu')(dropout1_ui)\n",
        "  dropout2_ui = Layers.Dropout(dropout)(d2_ui)\n",
        "  d3_ui = Layers.Dense(16, activation='relu')(dropout2_ui)\n",
        "  dropout3_ui = Layers.Dropout(dropout)(d3_ui)\n",
        "  d4_ui = Layers.Dense(8, activation='relu')(dropout3_ui)\n",
        "\n",
        "  #2. user-artist\n",
        "\n",
        "  Dense_user_ua = Layers.Dense(MLP_embedding_size)(user_encoded)\n",
        "  Dense_artist_ua = Layers.Dense(MLP_embedding_size)(artist_encoded)\n",
        "  concatenate_1_ua = Layers.concatenate([Dense_user_ua, Dense_artist_ua])\n",
        "\n",
        "  d1_ua = Layers.Dense(64, activation='relu')(concatenate_1_ua)\n",
        "  dropout1_ua = Layers.Dropout(dropout)(d1_ua)\n",
        "  d2_ua = Layers.Dense(32, activation='relu')(dropout1_ua)\n",
        "  dropout2_ua = Layers.Dropout(dropout)(d2_ua)\n",
        "  d3_ua = Layers.Dense(16, activation='relu')(dropout2_ua)\n",
        "  dropout3_ua = Layers.Dropout(dropout)(d3_ua)\n",
        "  d4_ua = Layers.Dense(8, activation='relu')(dropout3_ua)\n",
        "\n",
        "\n",
        "  # Final layers\n",
        "\n",
        "  NeuMF = Layers.concatenate([d4_ui,d4_ua,GMF_ui,GMF_ua])\n",
        "\n",
        "  \n",
        "  #NeuMF = Layers.concatenate([GMF_ui,GMF_ua])\n",
        "  prediction = Layers.Dense(1)(NeuMF)\n",
        "\n",
        "  NeuMF = Model([user,item,artist], prediction)\n",
        "\n",
        "  return NeuMF"
      ],
      "execution_count": 369,
      "outputs": []
    },
    {
      "cell_type": "code",
      "metadata": {
        "colab": {
          "base_uri": "https://localhost:8080/"
        },
        "id": "8EAifV-lsooR",
        "outputId": "eb0fde3a-2b3b-4943-b298-e73139b8aa0c"
      },
      "source": [
        "model_uia = NeuMF_with_artists([user,item,artist],[user_encoded,item_encoded,artist_encoded], dropout=0.1)\n",
        "model_uia.compile(optimizer=tf.optimizers.Adam(learning_rate=0.001),\n",
        "          loss='mean_squared_error', metrics=[tf.keras.metrics.RootMeanSquaredError()])# mean_squared_error', )   #we will need to weigh our loss\n",
        "history_uia = model_uia.fit(trainset, epochs=10, validation_data=validset, callbacks=callbacks)"
      ],
      "execution_count": 408,
      "outputs": [
        {
          "output_type": "stream",
          "text": [
            "Epoch 1/10\n",
            "128/128 [==============================] - 4s 23ms/step - loss: 6.8557 - root_mean_squared_error: 2.6138 - val_loss: 5.2675 - val_root_mean_squared_error: 2.2951\n",
            "Epoch 2/10\n",
            "128/128 [==============================] - 3s 21ms/step - loss: 4.5375 - root_mean_squared_error: 2.1287 - val_loss: 4.4911 - val_root_mean_squared_error: 2.1192\n",
            "Epoch 3/10\n",
            "128/128 [==============================] - 3s 21ms/step - loss: 1.9787 - root_mean_squared_error: 1.4057 - val_loss: 4.5755 - val_root_mean_squared_error: 2.1390\n",
            "Epoch 4/10\n",
            "128/128 [==============================] - 3s 21ms/step - loss: 0.8271 - root_mean_squared_error: 0.9091 - val_loss: 4.5830 - val_root_mean_squared_error: 2.1408\n",
            "Epoch 00004: early stopping\n"
          ],
          "name": "stdout"
        }
      ]
    },
    {
      "cell_type": "code",
      "metadata": {
        "colab": {
          "base_uri": "https://localhost:8080/",
          "height": 1000
        },
        "id": "uuDCnzEqsoqn",
        "outputId": "2966b021-27cc-4d54-9e30-c3c0aee266a3"
      },
      "source": [
        "tf.keras.utils.plot_model(model_uia, show_shapes=False)"
      ],
      "execution_count": 362,
      "outputs": [
        {
          "output_type": "execute_result",
          "data": {
            "image/png": "[encoded data removed]",
            "text/plain": [
              "<IPython.core.display.Image object>"
            ]
          },
          "metadata": {
            "tags": []
          },
          "execution_count": 362
        }
      ]
    },
    {
      "cell_type": "code",
      "metadata": {
        "id": "7Y3GCF8lsotN"
      },
      "source": [
        ""
      ],
      "execution_count": 409,
      "outputs": []
    },
    {
      "cell_type": "markdown",
      "metadata": {
        "id": "AlxelIMaobsU"
      },
      "source": [
        "Attempt to solve the problem using classification instead"
      ]
    },
    {
      "cell_type": "markdown",
      "metadata": {
        "id": "cNw9H4inWgQp"
      },
      "source": [
        "Categorical binning"
      ]
    },
    {
      "cell_type": "code",
      "metadata": {
        "id": "aqBINZBYYSq5"
      },
      "source": [
        "Train = pd.read_csv('train2.csv')\n",
        "Train = Train.drop(columns='buyer')\n",
        "Train_labels = Train['affinity'].values\n",
        "TrainDataSet = tf.data.Dataset.from_tensor_slices((dict(Train), Train_labels)).shuffle(buffer_size=len(Train)).batch(32)\n",
        "\n",
        "bins = np.linspace(0,10,11)\n",
        "#Train['affinity_categorical'] = pd.cut(Train['affinity'], bins=bins, labels=bins[::-1][1:][::-1])\n",
        "\n",
        "#Train = Train.drop(columns='affinity')\n",
        "#Train.loc[:,'affinity_categorical'] =  Train.loc[:,'affinity_categorical'].map(lambda x: int(x))\n",
        "\n",
        "train, test = train_test_split(Train, test_size= 0.2, random_state=1000)\n",
        "test_labels = test.pop('affinity')#_categorical')\n",
        "\n",
        "train_val_split = 0.2\n",
        "Nval = int(len(train)*train_val_split)\n",
        "val = train.loc[:Nval,:]\n",
        "val_labels = val.pop('affinity')#_categorical')\n",
        "\n",
        "train = train.loc[Nval:,:]\n",
        "train_labels = train.pop('affinity')#_categorical')\n",
        "\n",
        "\n",
        "trainset = tf.data.Dataset.from_tensor_slices((dict(train), train_labels)).shuffle(buffer_size=len(train)).batch(32)\n",
        "validset = tf.data.Dataset.from_tensor_slices((dict(val), val_labels)).batch(32)\n",
        "testset =  tf.data.Dataset.from_tensor_slices((dict(test), test_labels)).batch(32)\n",
        "\n",
        "\n"
      ],
      "execution_count": 484,
      "outputs": []
    },
    {
      "cell_type": "code",
      "metadata": {
        "id": "_y5reHCacvS6"
      },
      "source": [
        "#preprocess withone hot encoding\n",
        "user = Layers.Input(shape=(1,),name='buyerId')\n",
        "item = Layers.Input(shape=(1,),name='tokenId')\n",
        "user_encoded = encode_integer_categorical_feature(user, \"buyerId\", TrainDataSet)\n",
        "item_encoded = encode_integer_categorical_feature(item, \"tokenId\", TrainDataSet)"
      ],
      "execution_count": 493,
      "outputs": []
    },
    {
      "cell_type": "code",
      "metadata": {
        "colab": {
          "base_uri": "https://localhost:8080/"
        },
        "id": "Xl_WSQlzso1N",
        "outputId": "91e5f3a3-3ab7-457b-f09a-a3b32f49bfd6"
      },
      "source": [
        "class_weights = merged.groupby('affinity_categorical').sum().reset_index()[['affinity_categorical','buyerId']]\n",
        "class_weights = class_weights.rename(columns={'buyerId':'weight'})\n",
        "class_weights.loc[:,'weight'] = class_weights.loc[:,'weight'].apply(lambda x: 1/x)"
      ],
      "execution_count": 472,
      "outputs": [
        {
          "output_type": "execute_result",
          "data": {
            "text/plain": [
              "array([1.35577778e-07, 9.68158244e-07, 2.28089703e-06, 3.53036289e-06,\n",
              "       4.87633612e-06, 8.99749870e-06, 1.13593766e-05, 1.60156313e-05,\n",
              "       1.74137150e-05, 2.41174229e-06])"
            ]
          },
          "metadata": {
            "tags": []
          },
          "execution_count": 472
        }
      ]
    },
    {
      "cell_type": "code",
      "metadata": {
        "id": "xhH9ticTso4M"
      },
      "source": [
        "def MLP_classification(inputs,inputs_encoded,MLP_embedding_size=32):\n",
        "\n",
        "  user_encoded, item_encoded = inputs_encoded\n",
        "  user, item = inputs\n",
        "\n",
        "  #embedding\n",
        "  Dense_user = Layers.Dense(MLP_embedding_size)(user_encoded)\n",
        "  Dense_item = Layers.Dense(MLP_embedding_size)(item_encoded)\n",
        "  concatenate_1 = Layers.concatenate([Dense_user, Dense_item])\n",
        "\n",
        "\n",
        "  d1 = Layers.Dense(64, activation='relu')(concatenate_1)\n",
        "  d1 = Layers.Dense(64, activation='relu')(d1)\n",
        "  d1 = Layers.Dense(64, activation='relu')(d1)\n",
        "  d1 = Layers.Dense(64, activation='relu')(d1)\n",
        "  d1 = Layers.Dropout(dropout)(d1)\n",
        "  d1 = Layers.Dense(32, activation='relu')(d1)\n",
        "  d1 = Layers.Dense(32, activation='relu')(d1)\n",
        "  d1 = Layers.Dense(32, activation='relu')(d1)\n",
        "  d1 = Layers.Dense(32, activation='relu')(d1)\n",
        "  d1 = Layers.Dropout(dropout)(d1)\n",
        "  d1 = Layers.Dense(16, activation='relu')(d1)\n",
        "  d1 = Layers.Dense(16, activation='relu')(d1)\n",
        "  d1 = Layers.Dense(16, activation='relu')(d1)\n",
        "  d1 = Layers.Dense(16, activation='relu')(d1)\n",
        "  d1 = Layers.Dropout(dropout)(d1)\n",
        "  #d4 = Layers.Dense(8, activation='relu')(dropout3)\n",
        "\n",
        "\n",
        " # NeuMF = Layers.concatenate([d4,GMF])\n",
        "\n",
        "  prediction = Layers.Dense(10)(d4)\n",
        "  MLP = Model([user,item], prediction)\n",
        "\n",
        "  return MLP"
      ],
      "execution_count": 699,
      "outputs": []
    },
    {
      "cell_type": "code",
      "metadata": {
        "colab": {
          "base_uri": "https://localhost:8080/",
          "height": 1000
        },
        "id": "lgWC1_XOdEoD",
        "outputId": "aac4e2d8-2e2f-4df8-8ea2-77ec41fbd3c1"
      },
      "source": [
        "tf.keras.utils.plot_model(MLP)"
      ],
      "execution_count": 499,
      "outputs": [
        {
          "output_type": "execute_result",
          "data": {
            "image/png": "[encoded data removed]",
            "text/plain": [
              "<IPython.core.display.Image object>"
            ]
          },
          "metadata": {
            "tags": []
          },
          "execution_count": 499
        }
      ]
    },
    {
      "cell_type": "code",
      "metadata": {
        "id": "t6O2Kppfso6c"
      },
      "source": [
        "MLP = MLP_classification([user,item],[user_encoded,item_encoded])\n",
        "MLP.compile(optimizer=tf.optimizers.Adam(learning_rate=0.001),\n",
        "          loss='mean_squared_error',#tf.keras.losses.SparseCategoricalCrossentropy(from_logits=True),\n",
        "           metrics=[tf.keras.metrics.RootMeanSquaredError()])"
      ],
      "execution_count": 503,
      "outputs": []
    },
    {
      "cell_type": "code",
      "metadata": {
        "colab": {
          "base_uri": "https://localhost:8080/",
          "height": 319
        },
        "id": "8pP275tZso9Z",
        "outputId": "1b48e231-af65-460b-f2ec-87969d987ede"
      },
      "source": [
        "MLP.fit(epochs=10)#, validation_data=validset, callbacks=callbacks)   # for some reason this failed in the latest run, \n",
        "                                                                      # anyway the performance of this model is very bad (see below)"
      ],
      "execution_count": 505,
      "outputs": [
        {
          "output_type": "error",
          "ename": "ValueError",
          "evalue": "ignored",
          "traceback": [
            "\u001b[0;31m---------------------------------------------------------------------------\u001b[0m",
            "\u001b[0;31mValueError\u001b[0m                                Traceback (most recent call last)",
            "\u001b[0;32m<ipython-input-505-f1faa0c01929>\u001b[0m in \u001b[0;36m<module>\u001b[0;34m()\u001b[0m\n\u001b[0;32m----> 1\u001b[0;31m \u001b[0mMLP\u001b[0m\u001b[0;34m.\u001b[0m\u001b[0mfit\u001b[0m\u001b[0;34m(\u001b[0m\u001b[0mepochs\u001b[0m\u001b[0;34m=\u001b[0m\u001b[0;36m10\u001b[0m\u001b[0;34m)\u001b[0m\u001b[0;31m#, validation_data=validset, callbacks=callbacks)\u001b[0m\u001b[0;34m\u001b[0m\u001b[0;34m\u001b[0m\u001b[0m\n\u001b[0m",
            "\u001b[0;32m/usr/local/lib/python3.7/dist-packages/tensorflow/python/keras/engine/training.py\u001b[0m in \u001b[0;36mfit\u001b[0;34m(self, x, y, batch_size, epochs, verbose, callbacks, validation_split, validation_data, shuffle, class_weight, sample_weight, initial_epoch, steps_per_epoch, validation_steps, validation_batch_size, validation_freq, max_queue_size, workers, use_multiprocessing)\u001b[0m\n\u001b[1;32m   1062\u001b[0m           \u001b[0muse_multiprocessing\u001b[0m\u001b[0;34m=\u001b[0m\u001b[0muse_multiprocessing\u001b[0m\u001b[0;34m,\u001b[0m\u001b[0;34m\u001b[0m\u001b[0;34m\u001b[0m\u001b[0m\n\u001b[1;32m   1063\u001b[0m           \u001b[0mmodel\u001b[0m\u001b[0;34m=\u001b[0m\u001b[0mself\u001b[0m\u001b[0;34m,\u001b[0m\u001b[0;34m\u001b[0m\u001b[0;34m\u001b[0m\u001b[0m\n\u001b[0;32m-> 1064\u001b[0;31m           steps_per_execution=self._steps_per_execution)\n\u001b[0m\u001b[1;32m   1065\u001b[0m \u001b[0;34m\u001b[0m\u001b[0m\n\u001b[1;32m   1066\u001b[0m       \u001b[0;31m# Container that configures and calls `tf.keras.Callback`s.\u001b[0m\u001b[0;34m\u001b[0m\u001b[0;34m\u001b[0m\u001b[0;34m\u001b[0m\u001b[0m\n",
            "\u001b[0;32m/usr/local/lib/python3.7/dist-packages/tensorflow/python/keras/engine/data_adapter.py\u001b[0m in \u001b[0;36m__init__\u001b[0;34m(self, x, y, sample_weight, batch_size, steps_per_epoch, initial_epoch, epochs, shuffle, class_weight, max_queue_size, workers, use_multiprocessing, model, steps_per_execution)\u001b[0m\n\u001b[1;32m   1097\u001b[0m       \u001b[0mself\u001b[0m\u001b[0;34m.\u001b[0m\u001b[0m_steps_per_execution_value\u001b[0m \u001b[0;34m=\u001b[0m \u001b[0msteps_per_execution\u001b[0m\u001b[0;34m.\u001b[0m\u001b[0mnumpy\u001b[0m\u001b[0;34m(\u001b[0m\u001b[0;34m)\u001b[0m\u001b[0;34m.\u001b[0m\u001b[0mitem\u001b[0m\u001b[0;34m(\u001b[0m\u001b[0;34m)\u001b[0m\u001b[0;34m\u001b[0m\u001b[0;34m\u001b[0m\u001b[0m\n\u001b[1;32m   1098\u001b[0m \u001b[0;34m\u001b[0m\u001b[0m\n\u001b[0;32m-> 1099\u001b[0;31m     \u001b[0madapter_cls\u001b[0m \u001b[0;34m=\u001b[0m \u001b[0mselect_data_adapter\u001b[0m\u001b[0;34m(\u001b[0m\u001b[0mx\u001b[0m\u001b[0;34m,\u001b[0m \u001b[0my\u001b[0m\u001b[0;34m)\u001b[0m\u001b[0;34m\u001b[0m\u001b[0;34m\u001b[0m\u001b[0m\n\u001b[0m\u001b[1;32m   1100\u001b[0m     self._adapter = adapter_cls(\n\u001b[1;32m   1101\u001b[0m         \u001b[0mx\u001b[0m\u001b[0;34m,\u001b[0m\u001b[0;34m\u001b[0m\u001b[0;34m\u001b[0m\u001b[0m\n",
            "\u001b[0;32m/usr/local/lib/python3.7/dist-packages/tensorflow/python/keras/engine/data_adapter.py\u001b[0m in \u001b[0;36mselect_data_adapter\u001b[0;34m(x, y)\u001b[0m\n\u001b[1;32m    962\u001b[0m         \u001b[0;34m\"Failed to find data adapter that can handle \"\u001b[0m\u001b[0;34m\u001b[0m\u001b[0;34m\u001b[0m\u001b[0m\n\u001b[1;32m    963\u001b[0m         \"input: {}, {}\".format(\n\u001b[0;32m--> 964\u001b[0;31m             _type_name(x), _type_name(y)))\n\u001b[0m\u001b[1;32m    965\u001b[0m   \u001b[0;32melif\u001b[0m \u001b[0mlen\u001b[0m\u001b[0;34m(\u001b[0m\u001b[0madapter_cls\u001b[0m\u001b[0;34m)\u001b[0m \u001b[0;34m>\u001b[0m \u001b[0;36m1\u001b[0m\u001b[0;34m:\u001b[0m\u001b[0;34m\u001b[0m\u001b[0;34m\u001b[0m\u001b[0m\n\u001b[1;32m    966\u001b[0m     raise RuntimeError(\n",
            "\u001b[0;31mValueError\u001b[0m: Failed to find data adapter that can handle input: <class 'NoneType'>, <class 'NoneType'>"
          ]
        }
      ]
    },
    {
      "cell_type": "code",
      "metadata": {
        "id": "oNyAQTN_spBT"
      },
      "source": [
        ""
      ],
      "execution_count": null,
      "outputs": []
    },
    {
      "cell_type": "code",
      "metadata": {
        "id": "VO4tCHWRspEE"
      },
      "source": [
        ""
      ],
      "execution_count": 308,
      "outputs": []
    },
    {
      "cell_type": "markdown",
      "metadata": {
        "id": "SvT_Xwm1ovCe"
      },
      "source": [
        "2-branch NeuMF model"
      ]
    },
    {
      "cell_type": "code",
      "metadata": {
        "id": "CqWmPJxmx82L"
      },
      "source": [
        "Train = pd.read_csv('train2.csv')\n",
        "Train = Train.drop(columns='buyer')\n",
        "N = 10\n",
        "labels = np.linspace(0,N,N+1)\n",
        "Train.loc[:,'affinity_cat'] = pd.cut(Train.loc[:,'affinity'], bins=N, labels=labels[::-1][1:][::-1])\n",
        "Train.loc[:,'affinity_cat'] = Train.loc[:,'affinity_cat'].cat.codes\n",
        "Train = Train.drop(columns='affinity')\n",
        "\n",
        "Train_labels = Train['affinity_cat'].values\n",
        "TrainDataSet = tf.data.Dataset.from_tensor_slices((dict(Train), Train_labels)).shuffle(buffer_size=len(Train)).batch(32)\n",
        "train, test = train_test_split(Train, test_size= 0.2,random_state=1000)\n",
        "\n",
        "test_labels = test.pop('affinity_cat')\n",
        "test_labels = test_labels.astype(int)\n",
        "\n",
        "\n",
        "train_val_split = 0.2\n",
        "Nval = int(len(train)*train_val_split)\n",
        "val = train.loc[:Nval,:]\n",
        "val_labels = val.pop('affinity_cat')\n",
        "val_labels = val_labels.astype(int)\n",
        "\n",
        "train = train.loc[Nval:,:]\n",
        "\n",
        "class_weights = train.groupby('affinity_cat').sum().reset_index()[['affinity_cat','buyerId']]\n",
        "class_weights = class_weights.rename(columns={'buyerId':'weight'})\n",
        "class_weights.loc[:,'weight'] = class_weights.loc[:,'weight'].apply(lambda x: 1/x)\n",
        "\n",
        "class_weights = class_weights.to_dict()\n",
        "\n",
        "train_labels = train.pop('affinity_cat')\n",
        "train_labels = train_labels.astype(int)\n",
        "\n",
        "\n",
        "trainset = tf.data.Dataset.from_tensor_slices((dict(train), train_labels)).shuffle(buffer_size=len(train)).batch(32)\n",
        "validset = tf.data.Dataset.from_tensor_slices((dict(val), val_labels)).batch(32)\n",
        "testset =  tf.data.Dataset.from_tensor_slices((dict(test), test_labels)).batch(32)"
      ],
      "execution_count": 725,
      "outputs": []
    },
    {
      "cell_type": "code",
      "metadata": {
        "colab": {
          "base_uri": "https://localhost:8080/"
        },
        "id": "PJMbnXybodm2",
        "outputId": "467c5d3c-48f1-4bda-c845-dcf11abdf449"
      },
      "source": [
        "class_weights = class_weights['weight']\n",
        "class_weights"
      ],
      "execution_count": 728,
      "outputs": [
        {
          "output_type": "execute_result",
          "data": {
            "text/plain": [
              "{0: 2.0838477832548243e-07,\n",
              " 1: 1.5120152290173866e-06,\n",
              " 2: 3.6233459425772137e-06,\n",
              " 3: 5.689447213308755e-06,\n",
              " 4: 7.483573556044482e-06,\n",
              " 5: 1.3796719140188464e-05,\n",
              " 6: 1.85563184264242e-05,\n",
              " 7: 2.8315777551251557e-05,\n",
              " 8: 2.9792051480664958e-05,\n",
              " 9: 3.717665603414304e-06}"
            ]
          },
          "metadata": {
            "tags": []
          },
          "execution_count": 728
        }
      ]
    },
    {
      "cell_type": "code",
      "metadata": {
        "colab": {
          "base_uri": "https://localhost:8080/"
        },
        "id": "YxUHYo82uO3k",
        "outputId": "d6dcf925-a9a9-4343-d93e-4e80973f078c"
      },
      "source": [
        "sum = np.array(list(class_weights.values())).sum()\n",
        "for c in class_weights.keys():\n",
        "  class_weights[c]/=sum\n",
        "class_weights"
      ],
      "execution_count": 729,
      "outputs": [
        {
          "output_type": "execute_result",
          "data": {
            "text/plain": [
              "{0: 0.0018490991223259487,\n",
              " 1: 0.013416843856764676,\n",
              " 2: 0.032151704438977774,\n",
              " 3: 0.05048522225657471,\n",
              " 4: 0.06640537473773515,\n",
              " 5: 0.1224249748858956,\n",
              " 6: 0.16465920587687138,\n",
              " 7: 0.25125961617127074,\n",
              " 8: 0.2643593101562473,\n",
              " 9: 0.03298864849733665}"
            ]
          },
          "metadata": {
            "tags": []
          },
          "execution_count": 729
        }
      ]
    },
    {
      "cell_type": "code",
      "metadata": {
        "id": "yYpNR8UI55zT"
      },
      "source": [
        "#preprocess withone hot encoding\n",
        "user = Layers.Input(shape=(1,),name='buyerId')\n",
        "item = Layers.Input(shape=(1,),name='tokenId')\n",
        "user_encoded = encode_integer_categorical_feature(user, \"buyerId\", TrainDataSet)\n",
        "item_encoded = encode_integer_categorical_feature(item, \"tokenId\", TrainDataSet)\n",
        "\n"
      ],
      "execution_count": 730,
      "outputs": []
    },
    {
      "cell_type": "code",
      "metadata": {
        "id": "aFs9Vem_sffa"
      },
      "source": [
        "def MLP_classification(inputs,inputs_encoded,MLP_embedding_size=32):\n",
        "\n",
        "  user_encoded, item_encoded = inputs_encoded\n",
        "  user, item = inputs\n",
        "\n",
        "  #embedding\n",
        "  Dense_user = Layers.Dense(MLP_embedding_size, activation='relu')(user_encoded)\n",
        "  Dense_item = Layers.Dense(MLP_embedding_size, activation='relu')(item_encoded)\n",
        "  concatenate_1 = Layers.concatenate([Dense_user, Dense_item])\n",
        "\n",
        " # if N>16:\n",
        " #   raise ValueError\n",
        "\n",
        "  d1 = Layers.Dense(128, activation='relu')(concatenate_1)\n",
        "  d1 = Layers.Dense(128, activation='relu')(d1)\n",
        "  d1 = Layers.Dense(128, activation='relu')(d1)\n",
        "  d1 = Layers.Dense(128, activation='relu')(d1)\n",
        "  d1 = Layers.Dropout(dropout)(d1)\n",
        "  d1 = Layers.Dense(64, activation='relu')(d1)\n",
        "  d1 = Layers.Dense(64, activation='relu')(d1)\n",
        "  d1 = Layers.Dense(64, activation='relu')(d1)\n",
        "  d1 = Layers.Dense(64, activation='relu')(d1)\n",
        "  d1 = Layers.Dropout(dropout)(d1)\n",
        "  d1 = Layers.Dense(32, activation='relu')(d1)\n",
        "  d1 = Layers.Dense(32, activation='relu')(d1)\n",
        "  d1 = Layers.Dense(32, activation='relu')(d1)\n",
        "  d1 = Layers.Dense(32, activation='relu')(d1)\n",
        "  #d1 = Layers.Dropout(dropout)(d1)\n",
        "  #d4 = Layers.Dense(8, activation='relu')(dropout3)\n",
        "\n",
        "\n",
        " # NeuMF = Layers.concatenate([d4,GMF])\n",
        "\n",
        "  prediction = Layers.Dense(N)(d1)\n",
        "  MLP = Model([user,item], prediction)\n",
        "\n",
        "  return MLP"
      ],
      "execution_count": 713,
      "outputs": []
    },
    {
      "cell_type": "code",
      "metadata": {
        "colab": {
          "base_uri": "https://localhost:8080/"
        },
        "id": "LEacDVjgssyp",
        "outputId": "88e9ba0a-a4c5-49eb-eff7-cd47bffe0bd8"
      },
      "source": [
        "mlp = MLP_classification([user,item],[user_encoded,item_encoded])\n",
        "mlp.compile(optimizer=tf.optimizers.Adam(learning_rate=0.001), \n",
        "          loss=tf.keras.losses.SparseCategoricalCrossentropy(from_logits=True), metrics=[tf.keras.metrics.RootMeanSquaredError(), 'accuracy'])# mean_squared_error', )   #we will need to weigh our loss\n",
        "history_mlp = model_dropout02.fit(trainset, epochs=10, class_weight=class_weights,  validation_data=validset)#, callbacks=callbacks)"
      ],
      "execution_count": 714,
      "outputs": [
        {
          "output_type": "stream",
          "text": [
            "Epoch 1/10\n",
            "246/246 [==============================] - 4s 15ms/step - loss: 2.0874e-04 - root_mean_squared_error: 21.5720 - accuracy: 0.9927 - val_loss: 3.2938 - val_root_mean_squared_error: 13.1689 - val_accuracy: 0.4125\n",
            "Epoch 2/10\n",
            "246/246 [==============================] - 4s 15ms/step - loss: 2.5215e-04 - root_mean_squared_error: 20.5025 - accuracy: 0.9938 - val_loss: 3.7751 - val_root_mean_squared_error: 12.2631 - val_accuracy: 0.3849\n",
            "Epoch 3/10\n",
            "246/246 [==============================] - 3s 14ms/step - loss: 1.0541e-04 - root_mean_squared_error: 21.9928 - accuracy: 0.9961 - val_loss: 3.1301 - val_root_mean_squared_error: 12.4499 - val_accuracy: 0.4178\n",
            "Epoch 4/10\n",
            "246/246 [==============================] - 4s 14ms/step - loss: 6.7681e-05 - root_mean_squared_error: 22.9514 - accuracy: 0.9973 - val_loss: 3.2583 - val_root_mean_squared_error: 13.8968 - val_accuracy: 0.4581\n",
            "Epoch 5/10\n",
            "246/246 [==============================] - 4s 15ms/step - loss: 1.3702e-04 - root_mean_squared_error: 22.1367 - accuracy: 0.9953 - val_loss: 3.0873 - val_root_mean_squared_error: 13.8232 - val_accuracy: 0.4438\n",
            "Epoch 6/10\n",
            "246/246 [==============================] - 4s 14ms/step - loss: 6.0476e-05 - root_mean_squared_error: 22.4179 - accuracy: 0.9958 - val_loss: 3.5408 - val_root_mean_squared_error: 12.8876 - val_accuracy: 0.3780\n",
            "Epoch 7/10\n",
            "246/246 [==============================] - 4s 14ms/step - loss: 4.8380e-05 - root_mean_squared_error: 22.6979 - accuracy: 0.9966 - val_loss: 3.5177 - val_root_mean_squared_error: 13.3046 - val_accuracy: 0.3940\n",
            "Epoch 8/10\n",
            "246/246 [==============================] - 4s 14ms/step - loss: 3.6197e-05 - root_mean_squared_error: 23.1753 - accuracy: 0.9975 - val_loss: 3.5573 - val_root_mean_squared_error: 13.5249 - val_accuracy: 0.4046\n",
            "Epoch 9/10\n",
            "246/246 [==============================] - 4s 15ms/step - loss: 2.9848e-05 - root_mean_squared_error: 23.8977 - accuracy: 0.9980 - val_loss: 3.4500 - val_root_mean_squared_error: 14.7195 - val_accuracy: 0.4348\n",
            "Epoch 10/10\n",
            "246/246 [==============================] - 4s 15ms/step - loss: 2.5700e-05 - root_mean_squared_error: 25.0440 - accuracy: 0.9981 - val_loss: 3.5495 - val_root_mean_squared_error: 15.2731 - val_accuracy: 0.4427\n"
          ],
          "name": "stdout"
        }
      ]
    },
    {
      "cell_type": "code",
      "metadata": {
        "id": "EXjMGgwO58Vb"
      },
      "source": [
        "def NeuMF(inputs,inputs_encoded, MF_embedding_size = 32,\n",
        "          MLP_embedding_size = 32,dropout=0.2, choice=None):\n",
        "\n",
        "  \n",
        "  user_encoded, item_encoded = inputs_encoded\n",
        "  user, item = inputs\n",
        "\n",
        "  #GMF branch\n",
        "\n",
        "  embed_MF_user = Layers.Dense(MF_embedding_size)(user_encoded)\n",
        "  embed_MF_item = Layers.Dense(MF_embedding_size)(item_encoded)\n",
        "  GMF = Layers.Multiply()([embed_MF_user, embed_MF_item])\n",
        "\n",
        "  Dense_user = Layers.Dense(MLP_embedding_size)(user_encoded)\n",
        "  Dense_item = Layers.Dense(MLP_embedding_size)(item_encoded)\n",
        "  concatenate_1 = Layers.concatenate([Dense_user, Dense_item])\n",
        "\n",
        "  d1 = Layers.Dense(128, activation='relu')(concatenate_1)\n",
        "  dropout1 = Layers.Dropout(dropout)(d1)\n",
        "  d2 = Layers.Dense(64, activation='relu')(dropout1)\n",
        "  dropout2 = Layers.Dropout(dropout)(d2)\n",
        "  d3 = Layers.Dense(32, activation='relu')(dropout2)\n",
        "  dropout3 = Layers.Dropout(dropout)(d3)\n",
        "  d4 = Layers.Dense(32, activation='relu')(dropout3)\n",
        "\n",
        "\n",
        "  NeuMF = Layers.concatenate([d4,GMF])\n",
        "\n",
        "  if choice =='clf':\n",
        "    prediction = Layers.Dense(len(class_weights))(NeuMF)\n",
        "  else:\n",
        "    prediction = Layers.Dense(1)(NeuMF)\n",
        "  NeuMF = Model([user,item], prediction)\n",
        "\n",
        "  return NeuMF"
      ],
      "execution_count": 15,
      "outputs": []
    },
    {
      "cell_type": "markdown",
      "metadata": {
        "id": "fuGcLEkIDcYa"
      },
      "source": [
        ""
      ]
    },
    {
      "cell_type": "code",
      "metadata": {
        "colab": {
          "base_uri": "https://localhost:8080/"
        },
        "id": "p1t6QVPS64hl",
        "outputId": "290d234f-c2cf-432e-eff2-1f1c6735b096"
      },
      "source": [
        "history = m.fit(trainset, epochs=10, validation_data=validset, callbacks=callbacks)"
      ],
      "execution_count": 169,
      "outputs": [
        {
          "output_type": "stream",
          "text": [
            "Epoch 1/10\n",
            "138/138 [==============================] - 2s 17ms/step - loss: 0.5727 - val_loss: 0.5949\n",
            "Epoch 2/10\n",
            "138/138 [==============================] - 3s 18ms/step - loss: 0.3187 - val_loss: 0.6524\n",
            "Epoch 3/10\n",
            "138/138 [==============================] - 2s 17ms/step - loss: 0.2119 - val_loss: 0.6503\n",
            "Epoch 00003: early stopping\n"
          ],
          "name": "stdout"
        }
      ]
    },
    {
      "cell_type": "code",
      "metadata": {
        "colab": {
          "base_uri": "https://localhost:8080/"
        },
        "id": "PAvFb3Zp-BC_",
        "outputId": "ce9e1d83-11cb-4f14-b19d-5164b775af77"
      },
      "source": [
        "model_dropout02 = NeuMF([user,item],[user_encoded,item_encoded], dropout=0.2)\n",
        "model_dropout02.compile(optimizer=tf.optimizers.Adam(learning_rate=0.001), \n",
        "          loss=tf.keras.losses.SparseCategoricalCrossentropy(from_logits=True), metrics=[tf.keras.metrics.RootMeanSquaredError(), 'accuracy'])# mean_squared_error', )   #we will need to weigh our loss\n",
        "history_dropout2 = model_dropout02.fit(trainset, epochs=10, class_weight=class_weights,  validation_data=validset)#, callbacks=callbacks)"
      ],
      "execution_count": 732,
      "outputs": [
        {
          "output_type": "stream",
          "text": [
            "Epoch 1/10\n",
            "246/246 [==============================] - 5s 15ms/step - loss: 0.0354 - root_mean_squared_error: 2.4577 - accuracy: 0.0325 - val_loss: 2.3283 - val_root_mean_squared_error: 2.5663 - val_accuracy: 0.0106\n",
            "Epoch 2/10\n",
            "246/246 [==============================] - 3s 14ms/step - loss: 0.0354 - root_mean_squared_error: 2.5751 - accuracy: 0.0493 - val_loss: 1.9655 - val_root_mean_squared_error: 2.6692 - val_accuracy: 0.3897\n",
            "Epoch 3/10\n",
            "246/246 [==============================] - 4s 14ms/step - loss: 0.0289 - root_mean_squared_error: 2.7136 - accuracy: 0.4454 - val_loss: 1.8677 - val_root_mean_squared_error: 3.1274 - val_accuracy: 0.3309\n",
            "Epoch 4/10\n",
            "246/246 [==============================] - 4s 14ms/step - loss: 0.0171 - root_mean_squared_error: 4.1602 - accuracy: 0.5751 - val_loss: 2.0316 - val_root_mean_squared_error: 3.8177 - val_accuracy: 0.4348\n",
            "Epoch 5/10\n",
            "246/246 [==============================] - 4s 15ms/step - loss: 0.0098 - root_mean_squared_error: 4.8773 - accuracy: 0.8114 - val_loss: 1.6936 - val_root_mean_squared_error: 4.4389 - val_accuracy: 0.5392\n",
            "Epoch 6/10\n",
            "246/246 [==============================] - 4s 14ms/step - loss: 0.0050 - root_mean_squared_error: 6.1776 - accuracy: 0.9489 - val_loss: 2.1606 - val_root_mean_squared_error: 5.4113 - val_accuracy: 0.5148\n",
            "Epoch 7/10\n",
            "246/246 [==============================] - 3s 14ms/step - loss: 0.0028 - root_mean_squared_error: 7.3655 - accuracy: 0.9747 - val_loss: 2.7354 - val_root_mean_squared_error: 5.1747 - val_accuracy: 0.4745\n",
            "Epoch 8/10\n",
            "246/246 [==============================] - 3s 14ms/step - loss: 0.0016 - root_mean_squared_error: 7.4441 - accuracy: 0.9813 - val_loss: 2.2126 - val_root_mean_squared_error: 5.4273 - val_accuracy: 0.5201\n",
            "Epoch 9/10\n",
            "246/246 [==============================] - 4s 14ms/step - loss: 9.5978e-04 - root_mean_squared_error: 8.0324 - accuracy: 0.9885 - val_loss: 2.0600 - val_root_mean_squared_error: 6.0883 - val_accuracy: 0.5520\n",
            "Epoch 10/10\n",
            "246/246 [==============================] - 4s 14ms/step - loss: 6.8413e-04 - root_mean_squared_error: 8.3437 - accuracy: 0.9889 - val_loss: 2.2408 - val_root_mean_squared_error: 6.3886 - val_accuracy: 0.5286\n"
          ],
          "name": "stdout"
        }
      ]
    },
    {
      "cell_type": "code",
      "metadata": {
        "colab": {
          "base_uri": "https://localhost:8080/"
        },
        "id": "TyKlXzz7iXHN",
        "outputId": "2d6552ea-d6ed-4008-fb02-91b8d5aa7acf"
      },
      "source": [
        "for i in trainset.take(1):\n",
        "  print(i)"
      ],
      "execution_count": 539,
      "outputs": [
        {
          "output_type": "stream",
          "text": [
            "({'buyerId': <tf.Tensor: shape=(32,), dtype=int64, numpy=\n",
            "array([1068,  313,  246, 1250,  536,   61,  199,  411,  249,  572,  739,\n",
            "       1353, 1233,  231, 1433,   61,  907,   96, 1420,  650,   96,  991,\n",
            "        313,  522,  344,  404,  275, 1012, 1140,  639,   96,  739])>, 'tokenId': <tf.Tensor: shape=(32,), dtype=int64, numpy=\n",
            "array([11164,  4274, 17563, 16523, 10759, 17085,  6378,  7058,  8766,\n",
            "       11127,  2320,  2725,  3159,   596,  8891, 11628,   446, 12146,\n",
            "        6532, 10091, 12538, 16171, 11610, 15800,   760,  6170,  3988,\n",
            "        5825,  8686, 12030,  5520,  5016])>}, <tf.Tensor: shape=(32,), dtype=float64, numpy=\n",
            "array([9., 0., 2., 0., 0., 0., 9., 0., 9., 0., 0., 0., 0., 2., 0., 0., 0.,\n",
            "       0., 0., 6., 0., 2., 0., 0., 0., 0., 0., 0., 1., 1., 7., 2.])>)\n"
          ],
          "name": "stdout"
        }
      ]
    },
    {
      "cell_type": "code",
      "metadata": {
        "id": "F-I7QrMY7tYy"
      },
      "source": [
        ""
      ],
      "execution_count": null,
      "outputs": []
    },
    {
      "cell_type": "markdown",
      "metadata": {
        "id": "9l5FJuMLo4c0"
      },
      "source": [
        "Attempt to use sample weights, failed because tf.data.Dataset does not support sample weights during training\n"
      ]
    },
    {
      "cell_type": "code",
      "metadata": {
        "id": "QXJfVV8g7pt2"
      },
      "source": [
        "import numpy as np\n",
        "import pandas as pd\n",
        "Train = pd.read_csv('train2.csv')\n",
        "Train = Train.drop(columns='buyer')\n",
        "\n",
        "Train_labels = Train['affinity'].values\n",
        "TrainDataSet = tf.data.Dataset.from_tensor_slices((dict(Train), Train_labels)).shuffle(buffer_size=len(Train)).batch(32)\n",
        "train, test = train_test_split(Train, test_size= 0.2,random_state=1000)\n",
        "\n",
        "test_labels = test.pop('affinity')\n",
        "test_labels = test_labels.astype(int)\n",
        "\n",
        "\n",
        "train_val_split = 0.2\n",
        "Nval = int(len(train)*train_val_split)\n",
        "val = train.loc[:Nval,:]\n",
        "val_labels = val.pop('affinity')\n",
        "val_labels = val_labels.astype(int)\n",
        "\n",
        "train = train.loc[Nval:,:]\n",
        "N = 10\n",
        "labels = np.linspace(0,N,N+1)\n",
        "train.loc[:,'affinity_cat'] = pd.cut(train.loc[:,'affinity'], bins=N, labels=labels[::-1][1:][::-1])\n",
        "train.loc[:,'affinity_cat'] = train.loc[:,'affinity_cat'].cat.codes\n",
        "\n",
        "\n",
        "sample_weights = train.groupby('affinity_cat').count().reset_index()[['affinity_cat','buyerId']]\n",
        "sample_weights = sample_weights.rename(columns={'buyerId':'weight'})\n",
        "sample_weights.loc[:,'weight'] = sample_weights.loc[:,'weight'].apply(lambda x: 1/x)\n",
        "\n",
        "sum = sample_weights['weight'].sum()\n",
        "sample_weights['weight'] = sample_weights['weight']/sum\n",
        "train = train.merge(sample_weights, on='affinity_cat')\n",
        "\n",
        "sample_weights = train[['weight','affinity']]\n",
        "train = train.drop(columns=['affinity_cat','weight'])\n",
        "train_labels = train.pop('affinity')\n",
        "train_labels = train_labels.astype(int)\n",
        "\n",
        "\n",
        "trainset = tf.data.Dataset.from_tensor_slices((dict(train), train_labels)).batch(32)\n",
        "validset = tf.data.Dataset.from_tensor_slices((dict(val), val_labels)).batch(32)\n",
        "testset =  tf.data.Dataset.from_tensor_slices((dict(test), test_labels)).batch(32)"
      ],
      "execution_count": 18,
      "outputs": []
    },
    {
      "cell_type": "code",
      "metadata": {
        "colab": {
          "base_uri": "https://localhost:8080/",
          "height": 424
        },
        "id": "HgfNF-6IYGa_",
        "outputId": "903cd65e-785b-4010-c433-7c88093a6804"
      },
      "source": [
        "train"
      ],
      "execution_count": 19,
      "outputs": [
        {
          "output_type": "execute_result",
          "data": {
            "text/html": [
              "<div>\n",
              "<style scoped>\n",
              "    .dataframe tbody tr th:only-of-type {\n",
              "        vertical-align: middle;\n",
              "    }\n",
              "\n",
              "    .dataframe tbody tr th {\n",
              "        vertical-align: top;\n",
              "    }\n",
              "\n",
              "    .dataframe thead th {\n",
              "        text-align: right;\n",
              "    }\n",
              "</style>\n",
              "<table border=\"1\" class=\"dataframe\">\n",
              "  <thead>\n",
              "    <tr style=\"text-align: right;\">\n",
              "      <th></th>\n",
              "      <th>buyerId</th>\n",
              "      <th>tokenId</th>\n",
              "    </tr>\n",
              "  </thead>\n",
              "  <tbody>\n",
              "    <tr>\n",
              "      <th>0</th>\n",
              "      <td>1458</td>\n",
              "      <td>4381</td>\n",
              "    </tr>\n",
              "    <tr>\n",
              "      <th>1</th>\n",
              "      <td>1144</td>\n",
              "      <td>8250</td>\n",
              "    </tr>\n",
              "    <tr>\n",
              "      <th>2</th>\n",
              "      <td>1433</td>\n",
              "      <td>7067</td>\n",
              "    </tr>\n",
              "    <tr>\n",
              "      <th>3</th>\n",
              "      <td>739</td>\n",
              "      <td>14848</td>\n",
              "    </tr>\n",
              "    <tr>\n",
              "      <th>4</th>\n",
              "      <td>924</td>\n",
              "      <td>1879</td>\n",
              "    </tr>\n",
              "    <tr>\n",
              "      <th>...</th>\n",
              "      <td>...</td>\n",
              "      <td>...</td>\n",
              "    </tr>\n",
              "    <tr>\n",
              "      <th>7848</th>\n",
              "      <td>368</td>\n",
              "      <td>15401</td>\n",
              "    </tr>\n",
              "    <tr>\n",
              "      <th>7849</th>\n",
              "      <td>1260</td>\n",
              "      <td>17760</td>\n",
              "    </tr>\n",
              "    <tr>\n",
              "      <th>7850</th>\n",
              "      <td>378</td>\n",
              "      <td>346</td>\n",
              "    </tr>\n",
              "    <tr>\n",
              "      <th>7851</th>\n",
              "      <td>3</td>\n",
              "      <td>14636</td>\n",
              "    </tr>\n",
              "    <tr>\n",
              "      <th>7852</th>\n",
              "      <td>1036</td>\n",
              "      <td>2061</td>\n",
              "    </tr>\n",
              "  </tbody>\n",
              "</table>\n",
              "<p>7853 rows × 2 columns</p>\n",
              "</div>"
            ],
            "text/plain": [
              "      buyerId  tokenId\n",
              "0        1458     4381\n",
              "1        1144     8250\n",
              "2        1433     7067\n",
              "3         739    14848\n",
              "4         924     1879\n",
              "...       ...      ...\n",
              "7848      368    15401\n",
              "7849     1260    17760\n",
              "7850      378      346\n",
              "7851        3    14636\n",
              "7852     1036     2061\n",
              "\n",
              "[7853 rows x 2 columns]"
            ]
          },
          "metadata": {
            "tags": []
          },
          "execution_count": 19
        }
      ]
    },
    {
      "cell_type": "code",
      "metadata": {
        "id": "WI1pcpFLXjTz"
      },
      "source": [
        "#preprocess withone hot encoding\n",
        "user = Layers.Input(shape=(1,),name='buyerId')\n",
        "item = Layers.Input(shape=(1,),name='tokenId')\n",
        "user_encoded = encode_integer_categorical_feature(user, \"buyerId\", TrainDataSet)\n",
        "item_encoded = encode_integer_categorical_feature(item, \"tokenId\", TrainDataSet)"
      ],
      "execution_count": 20,
      "outputs": []
    },
    {
      "cell_type": "code",
      "metadata": {
        "id": "LhhjgwktLqWc"
      },
      "source": [
        "tf.keras.losses.MeanSquaredError??\n",
        "class WeightedLoss(tf.keras.losses.MeanSquaredError):\n",
        "  def __init__(self, name='weighted_loss'):\n",
        "    super().__init__()(name)\n",
        "  "
      ],
      "execution_count": 835,
      "outputs": []
    },
    {
      "cell_type": "code",
      "metadata": {
        "id": "v5AGtE75UCwJ"
      },
      "source": [
        "import tensorflow.keras.backend as kb\n",
        "def custom_loss(y_actual,y_pred):\n",
        "  with tf.compat.v1.Session().as_default():\n",
        "    print(type(y_actual.eval()))\n",
        "  w = sample_weights[sample_weights['affinity']==y_actual]#.values[0]\n",
        "  custom_loss=kb.square(y_actual-y_pred)\n",
        "  return custom_loss"
      ],
      "execution_count": 36,
      "outputs": []
    },
    {
      "cell_type": "code",
      "metadata": {
        "colab": {
          "base_uri": "https://localhost:8080/",
          "height": 1000
        },
        "id": "KA9A19Fb7-VQ",
        "outputId": "ce9a217d-7539-478d-b210-285200e87ffb"
      },
      "source": [
        "\n",
        "model_dropout02 = NeuMF([user,item],[user_encoded,item_encoded], dropout=0.2)\n",
        "model_dropout02.compile(optimizer=tf.optimizers.Adam(learning_rate=0.001), \n",
        "          loss=custom_loss, metrics=[tf.keras.metrics.RootMeanSquaredError()])# mean_squared_error', )   #we will need to weigh our loss\n",
        "history_dropout2 = model_dropout02.fit(trainset, epochs=10,  validation_data=validset)#, callbacks=callbacks)\n",
        "\n"
      ],
      "execution_count": 37,
      "outputs": [
        {
          "output_type": "stream",
          "text": [
            "Epoch 1/10\n"
          ],
          "name": "stdout"
        },
        {
          "output_type": "error",
          "ename": "InvalidArgumentError",
          "evalue": "ignored",
          "traceback": [
            "\u001b[0;31m---------------------------------------------------------------------------\u001b[0m",
            "\u001b[0;31mInvalidArgumentError\u001b[0m                      Traceback (most recent call last)",
            "\u001b[0;32m<ipython-input-37-e85678ca98d7>\u001b[0m in \u001b[0;36m<module>\u001b[0;34m()\u001b[0m\n\u001b[1;32m      3\u001b[0m model_dropout02.compile(optimizer=tf.optimizers.Adam(learning_rate=0.001), \n\u001b[1;32m      4\u001b[0m           loss=custom_loss, metrics=[tf.keras.metrics.RootMeanSquaredError()])# mean_squared_error', )   #we will need to weigh our loss\n\u001b[0;32m----> 5\u001b[0;31m \u001b[0mhistory_dropout2\u001b[0m \u001b[0;34m=\u001b[0m \u001b[0mmodel_dropout02\u001b[0m\u001b[0;34m.\u001b[0m\u001b[0mfit\u001b[0m\u001b[0;34m(\u001b[0m\u001b[0mtrainset\u001b[0m\u001b[0;34m,\u001b[0m \u001b[0mepochs\u001b[0m\u001b[0;34m=\u001b[0m\u001b[0;36m10\u001b[0m\u001b[0;34m,\u001b[0m  \u001b[0mvalidation_data\u001b[0m\u001b[0;34m=\u001b[0m\u001b[0mvalidset\u001b[0m\u001b[0;34m)\u001b[0m\u001b[0;31m#, callbacks=callbacks)\u001b[0m\u001b[0;34m\u001b[0m\u001b[0;34m\u001b[0m\u001b[0m\n\u001b[0m\u001b[1;32m      6\u001b[0m \u001b[0;34m\u001b[0m\u001b[0m\n",
            "\u001b[0;32m/usr/local/lib/python3.7/dist-packages/tensorflow/python/keras/engine/training.py\u001b[0m in \u001b[0;36mfit\u001b[0;34m(self, x, y, batch_size, epochs, verbose, callbacks, validation_split, validation_data, shuffle, class_weight, sample_weight, initial_epoch, steps_per_epoch, validation_steps, validation_batch_size, validation_freq, max_queue_size, workers, use_multiprocessing)\u001b[0m\n\u001b[1;32m   1098\u001b[0m                 _r=1):\n\u001b[1;32m   1099\u001b[0m               \u001b[0mcallbacks\u001b[0m\u001b[0;34m.\u001b[0m\u001b[0mon_train_batch_begin\u001b[0m\u001b[0;34m(\u001b[0m\u001b[0mstep\u001b[0m\u001b[0;34m)\u001b[0m\u001b[0;34m\u001b[0m\u001b[0;34m\u001b[0m\u001b[0m\n\u001b[0;32m-> 1100\u001b[0;31m               \u001b[0mtmp_logs\u001b[0m \u001b[0;34m=\u001b[0m \u001b[0mself\u001b[0m\u001b[0;34m.\u001b[0m\u001b[0mtrain_function\u001b[0m\u001b[0;34m(\u001b[0m\u001b[0miterator\u001b[0m\u001b[0;34m)\u001b[0m\u001b[0;34m\u001b[0m\u001b[0;34m\u001b[0m\u001b[0m\n\u001b[0m\u001b[1;32m   1101\u001b[0m               \u001b[0;32mif\u001b[0m \u001b[0mdata_handler\u001b[0m\u001b[0;34m.\u001b[0m\u001b[0mshould_sync\u001b[0m\u001b[0;34m:\u001b[0m\u001b[0;34m\u001b[0m\u001b[0;34m\u001b[0m\u001b[0m\n\u001b[1;32m   1102\u001b[0m                 \u001b[0mcontext\u001b[0m\u001b[0;34m.\u001b[0m\u001b[0masync_wait\u001b[0m\u001b[0;34m(\u001b[0m\u001b[0;34m)\u001b[0m\u001b[0;34m\u001b[0m\u001b[0;34m\u001b[0m\u001b[0m\n",
            "\u001b[0;32m/usr/local/lib/python3.7/dist-packages/tensorflow/python/eager/def_function.py\u001b[0m in \u001b[0;36m__call__\u001b[0;34m(self, *args, **kwds)\u001b[0m\n\u001b[1;32m    826\u001b[0m     \u001b[0mtracing_count\u001b[0m \u001b[0;34m=\u001b[0m \u001b[0mself\u001b[0m\u001b[0;34m.\u001b[0m\u001b[0mexperimental_get_tracing_count\u001b[0m\u001b[0;34m(\u001b[0m\u001b[0;34m)\u001b[0m\u001b[0;34m\u001b[0m\u001b[0;34m\u001b[0m\u001b[0m\n\u001b[1;32m    827\u001b[0m     \u001b[0;32mwith\u001b[0m \u001b[0mtrace\u001b[0m\u001b[0;34m.\u001b[0m\u001b[0mTrace\u001b[0m\u001b[0;34m(\u001b[0m\u001b[0mself\u001b[0m\u001b[0;34m.\u001b[0m\u001b[0m_name\u001b[0m\u001b[0;34m)\u001b[0m \u001b[0;32mas\u001b[0m \u001b[0mtm\u001b[0m\u001b[0;34m:\u001b[0m\u001b[0;34m\u001b[0m\u001b[0;34m\u001b[0m\u001b[0m\n\u001b[0;32m--> 828\u001b[0;31m       \u001b[0mresult\u001b[0m \u001b[0;34m=\u001b[0m \u001b[0mself\u001b[0m\u001b[0;34m.\u001b[0m\u001b[0m_call\u001b[0m\u001b[0;34m(\u001b[0m\u001b[0;34m*\u001b[0m\u001b[0margs\u001b[0m\u001b[0;34m,\u001b[0m \u001b[0;34m**\u001b[0m\u001b[0mkwds\u001b[0m\u001b[0;34m)\u001b[0m\u001b[0;34m\u001b[0m\u001b[0;34m\u001b[0m\u001b[0m\n\u001b[0m\u001b[1;32m    829\u001b[0m       \u001b[0mcompiler\u001b[0m \u001b[0;34m=\u001b[0m \u001b[0;34m\"xla\"\u001b[0m \u001b[0;32mif\u001b[0m \u001b[0mself\u001b[0m\u001b[0;34m.\u001b[0m\u001b[0m_experimental_compile\u001b[0m \u001b[0;32melse\u001b[0m \u001b[0;34m\"nonXla\"\u001b[0m\u001b[0;34m\u001b[0m\u001b[0;34m\u001b[0m\u001b[0m\n\u001b[1;32m    830\u001b[0m       \u001b[0mnew_tracing_count\u001b[0m \u001b[0;34m=\u001b[0m \u001b[0mself\u001b[0m\u001b[0;34m.\u001b[0m\u001b[0mexperimental_get_tracing_count\u001b[0m\u001b[0;34m(\u001b[0m\u001b[0;34m)\u001b[0m\u001b[0;34m\u001b[0m\u001b[0;34m\u001b[0m\u001b[0m\n",
            "\u001b[0;32m/usr/local/lib/python3.7/dist-packages/tensorflow/python/eager/def_function.py\u001b[0m in \u001b[0;36m_call\u001b[0;34m(self, *args, **kwds)\u001b[0m\n\u001b[1;32m    869\u001b[0m       \u001b[0;31m# This is the first call of __call__, so we have to initialize.\u001b[0m\u001b[0;34m\u001b[0m\u001b[0;34m\u001b[0m\u001b[0;34m\u001b[0m\u001b[0m\n\u001b[1;32m    870\u001b[0m       \u001b[0minitializers\u001b[0m \u001b[0;34m=\u001b[0m \u001b[0;34m[\u001b[0m\u001b[0;34m]\u001b[0m\u001b[0;34m\u001b[0m\u001b[0;34m\u001b[0m\u001b[0m\n\u001b[0;32m--> 871\u001b[0;31m       \u001b[0mself\u001b[0m\u001b[0;34m.\u001b[0m\u001b[0m_initialize\u001b[0m\u001b[0;34m(\u001b[0m\u001b[0margs\u001b[0m\u001b[0;34m,\u001b[0m \u001b[0mkwds\u001b[0m\u001b[0;34m,\u001b[0m \u001b[0madd_initializers_to\u001b[0m\u001b[0;34m=\u001b[0m\u001b[0minitializers\u001b[0m\u001b[0;34m)\u001b[0m\u001b[0;34m\u001b[0m\u001b[0;34m\u001b[0m\u001b[0m\n\u001b[0m\u001b[1;32m    872\u001b[0m     \u001b[0;32mfinally\u001b[0m\u001b[0;34m:\u001b[0m\u001b[0;34m\u001b[0m\u001b[0;34m\u001b[0m\u001b[0m\n\u001b[1;32m    873\u001b[0m       \u001b[0;31m# At this point we know that the initialization is complete (or less\u001b[0m\u001b[0;34m\u001b[0m\u001b[0;34m\u001b[0m\u001b[0;34m\u001b[0m\u001b[0m\n",
            "\u001b[0;32m/usr/local/lib/python3.7/dist-packages/tensorflow/python/eager/def_function.py\u001b[0m in \u001b[0;36m_initialize\u001b[0;34m(self, args, kwds, add_initializers_to)\u001b[0m\n\u001b[1;32m    724\u001b[0m     self._concrete_stateful_fn = (\n\u001b[1;32m    725\u001b[0m         self._stateful_fn._get_concrete_function_internal_garbage_collected(  # pylint: disable=protected-access\n\u001b[0;32m--> 726\u001b[0;31m             *args, **kwds))\n\u001b[0m\u001b[1;32m    727\u001b[0m \u001b[0;34m\u001b[0m\u001b[0m\n\u001b[1;32m    728\u001b[0m     \u001b[0;32mdef\u001b[0m \u001b[0minvalid_creator_scope\u001b[0m\u001b[0;34m(\u001b[0m\u001b[0;34m*\u001b[0m\u001b[0munused_args\u001b[0m\u001b[0;34m,\u001b[0m \u001b[0;34m**\u001b[0m\u001b[0munused_kwds\u001b[0m\u001b[0;34m)\u001b[0m\u001b[0;34m:\u001b[0m\u001b[0;34m\u001b[0m\u001b[0;34m\u001b[0m\u001b[0m\n",
            "\u001b[0;32m/usr/local/lib/python3.7/dist-packages/tensorflow/python/eager/function.py\u001b[0m in \u001b[0;36m_get_concrete_function_internal_garbage_collected\u001b[0;34m(self, *args, **kwargs)\u001b[0m\n\u001b[1;32m   2967\u001b[0m       \u001b[0margs\u001b[0m\u001b[0;34m,\u001b[0m \u001b[0mkwargs\u001b[0m \u001b[0;34m=\u001b[0m \u001b[0;32mNone\u001b[0m\u001b[0;34m,\u001b[0m \u001b[0;32mNone\u001b[0m\u001b[0;34m\u001b[0m\u001b[0;34m\u001b[0m\u001b[0m\n\u001b[1;32m   2968\u001b[0m     \u001b[0;32mwith\u001b[0m \u001b[0mself\u001b[0m\u001b[0;34m.\u001b[0m\u001b[0m_lock\u001b[0m\u001b[0;34m:\u001b[0m\u001b[0;34m\u001b[0m\u001b[0;34m\u001b[0m\u001b[0m\n\u001b[0;32m-> 2969\u001b[0;31m       \u001b[0mgraph_function\u001b[0m\u001b[0;34m,\u001b[0m \u001b[0m_\u001b[0m \u001b[0;34m=\u001b[0m \u001b[0mself\u001b[0m\u001b[0;34m.\u001b[0m\u001b[0m_maybe_define_function\u001b[0m\u001b[0;34m(\u001b[0m\u001b[0margs\u001b[0m\u001b[0;34m,\u001b[0m \u001b[0mkwargs\u001b[0m\u001b[0;34m)\u001b[0m\u001b[0;34m\u001b[0m\u001b[0;34m\u001b[0m\u001b[0m\n\u001b[0m\u001b[1;32m   2970\u001b[0m     \u001b[0;32mreturn\u001b[0m \u001b[0mgraph_function\u001b[0m\u001b[0;34m\u001b[0m\u001b[0;34m\u001b[0m\u001b[0m\n\u001b[1;32m   2971\u001b[0m \u001b[0;34m\u001b[0m\u001b[0m\n",
            "\u001b[0;32m/usr/local/lib/python3.7/dist-packages/tensorflow/python/eager/function.py\u001b[0m in \u001b[0;36m_maybe_define_function\u001b[0;34m(self, args, kwargs)\u001b[0m\n\u001b[1;32m   3359\u001b[0m \u001b[0;34m\u001b[0m\u001b[0m\n\u001b[1;32m   3360\u001b[0m           \u001b[0mself\u001b[0m\u001b[0;34m.\u001b[0m\u001b[0m_function_cache\u001b[0m\u001b[0;34m.\u001b[0m\u001b[0mmissed\u001b[0m\u001b[0;34m.\u001b[0m\u001b[0madd\u001b[0m\u001b[0;34m(\u001b[0m\u001b[0mcall_context_key\u001b[0m\u001b[0;34m)\u001b[0m\u001b[0;34m\u001b[0m\u001b[0;34m\u001b[0m\u001b[0m\n\u001b[0;32m-> 3361\u001b[0;31m           \u001b[0mgraph_function\u001b[0m \u001b[0;34m=\u001b[0m \u001b[0mself\u001b[0m\u001b[0;34m.\u001b[0m\u001b[0m_create_graph_function\u001b[0m\u001b[0;34m(\u001b[0m\u001b[0margs\u001b[0m\u001b[0;34m,\u001b[0m \u001b[0mkwargs\u001b[0m\u001b[0;34m)\u001b[0m\u001b[0;34m\u001b[0m\u001b[0;34m\u001b[0m\u001b[0m\n\u001b[0m\u001b[1;32m   3362\u001b[0m           \u001b[0mself\u001b[0m\u001b[0;34m.\u001b[0m\u001b[0m_function_cache\u001b[0m\u001b[0;34m.\u001b[0m\u001b[0mprimary\u001b[0m\u001b[0;34m[\u001b[0m\u001b[0mcache_key\u001b[0m\u001b[0;34m]\u001b[0m \u001b[0;34m=\u001b[0m \u001b[0mgraph_function\u001b[0m\u001b[0;34m\u001b[0m\u001b[0;34m\u001b[0m\u001b[0m\n\u001b[1;32m   3363\u001b[0m \u001b[0;34m\u001b[0m\u001b[0m\n",
            "\u001b[0;32m/usr/local/lib/python3.7/dist-packages/tensorflow/python/eager/function.py\u001b[0m in \u001b[0;36m_create_graph_function\u001b[0;34m(self, args, kwargs, override_flat_arg_shapes)\u001b[0m\n\u001b[1;32m   3204\u001b[0m             \u001b[0marg_names\u001b[0m\u001b[0;34m=\u001b[0m\u001b[0marg_names\u001b[0m\u001b[0;34m,\u001b[0m\u001b[0;34m\u001b[0m\u001b[0;34m\u001b[0m\u001b[0m\n\u001b[1;32m   3205\u001b[0m             \u001b[0moverride_flat_arg_shapes\u001b[0m\u001b[0;34m=\u001b[0m\u001b[0moverride_flat_arg_shapes\u001b[0m\u001b[0;34m,\u001b[0m\u001b[0;34m\u001b[0m\u001b[0;34m\u001b[0m\u001b[0m\n\u001b[0;32m-> 3206\u001b[0;31m             capture_by_value=self._capture_by_value),\n\u001b[0m\u001b[1;32m   3207\u001b[0m         \u001b[0mself\u001b[0m\u001b[0;34m.\u001b[0m\u001b[0m_function_attributes\u001b[0m\u001b[0;34m,\u001b[0m\u001b[0;34m\u001b[0m\u001b[0;34m\u001b[0m\u001b[0m\n\u001b[1;32m   3208\u001b[0m         \u001b[0mfunction_spec\u001b[0m\u001b[0;34m=\u001b[0m\u001b[0mself\u001b[0m\u001b[0;34m.\u001b[0m\u001b[0mfunction_spec\u001b[0m\u001b[0;34m,\u001b[0m\u001b[0;34m\u001b[0m\u001b[0;34m\u001b[0m\u001b[0m\n",
            "\u001b[0;32m/usr/local/lib/python3.7/dist-packages/tensorflow/python/framework/func_graph.py\u001b[0m in \u001b[0;36mfunc_graph_from_py_func\u001b[0;34m(name, python_func, args, kwargs, signature, func_graph, autograph, autograph_options, add_control_dependencies, arg_names, op_return_value, collections, capture_by_value, override_flat_arg_shapes)\u001b[0m\n\u001b[1;32m    988\u001b[0m         \u001b[0m_\u001b[0m\u001b[0;34m,\u001b[0m \u001b[0moriginal_func\u001b[0m \u001b[0;34m=\u001b[0m \u001b[0mtf_decorator\u001b[0m\u001b[0;34m.\u001b[0m\u001b[0munwrap\u001b[0m\u001b[0;34m(\u001b[0m\u001b[0mpython_func\u001b[0m\u001b[0;34m)\u001b[0m\u001b[0;34m\u001b[0m\u001b[0;34m\u001b[0m\u001b[0m\n\u001b[1;32m    989\u001b[0m \u001b[0;34m\u001b[0m\u001b[0m\n\u001b[0;32m--> 990\u001b[0;31m       \u001b[0mfunc_outputs\u001b[0m \u001b[0;34m=\u001b[0m \u001b[0mpython_func\u001b[0m\u001b[0;34m(\u001b[0m\u001b[0;34m*\u001b[0m\u001b[0mfunc_args\u001b[0m\u001b[0;34m,\u001b[0m \u001b[0;34m**\u001b[0m\u001b[0mfunc_kwargs\u001b[0m\u001b[0;34m)\u001b[0m\u001b[0;34m\u001b[0m\u001b[0;34m\u001b[0m\u001b[0m\n\u001b[0m\u001b[1;32m    991\u001b[0m \u001b[0;34m\u001b[0m\u001b[0m\n\u001b[1;32m    992\u001b[0m       \u001b[0;31m# invariant: `func_outputs` contains only Tensors, CompositeTensors,\u001b[0m\u001b[0;34m\u001b[0m\u001b[0;34m\u001b[0m\u001b[0;34m\u001b[0m\u001b[0m\n",
            "\u001b[0;32m/usr/local/lib/python3.7/dist-packages/tensorflow/python/eager/def_function.py\u001b[0m in \u001b[0;36mwrapped_fn\u001b[0;34m(*args, **kwds)\u001b[0m\n\u001b[1;32m    632\u001b[0m             \u001b[0mxla_context\u001b[0m\u001b[0;34m.\u001b[0m\u001b[0mExit\u001b[0m\u001b[0;34m(\u001b[0m\u001b[0;34m)\u001b[0m\u001b[0;34m\u001b[0m\u001b[0;34m\u001b[0m\u001b[0m\n\u001b[1;32m    633\u001b[0m         \u001b[0;32melse\u001b[0m\u001b[0;34m:\u001b[0m\u001b[0;34m\u001b[0m\u001b[0;34m\u001b[0m\u001b[0m\n\u001b[0;32m--> 634\u001b[0;31m           \u001b[0mout\u001b[0m \u001b[0;34m=\u001b[0m \u001b[0mweak_wrapped_fn\u001b[0m\u001b[0;34m(\u001b[0m\u001b[0;34m)\u001b[0m\u001b[0;34m.\u001b[0m\u001b[0m__wrapped__\u001b[0m\u001b[0;34m(\u001b[0m\u001b[0;34m*\u001b[0m\u001b[0margs\u001b[0m\u001b[0;34m,\u001b[0m \u001b[0;34m**\u001b[0m\u001b[0mkwds\u001b[0m\u001b[0;34m)\u001b[0m\u001b[0;34m\u001b[0m\u001b[0;34m\u001b[0m\u001b[0m\n\u001b[0m\u001b[1;32m    635\u001b[0m         \u001b[0;32mreturn\u001b[0m \u001b[0mout\u001b[0m\u001b[0;34m\u001b[0m\u001b[0;34m\u001b[0m\u001b[0m\n\u001b[1;32m    636\u001b[0m \u001b[0;34m\u001b[0m\u001b[0m\n",
            "\u001b[0;32m/usr/local/lib/python3.7/dist-packages/tensorflow/python/framework/func_graph.py\u001b[0m in \u001b[0;36mwrapper\u001b[0;34m(*args, **kwargs)\u001b[0m\n\u001b[1;32m    975\u001b[0m           \u001b[0;32mexcept\u001b[0m \u001b[0mException\u001b[0m \u001b[0;32mas\u001b[0m \u001b[0me\u001b[0m\u001b[0;34m:\u001b[0m  \u001b[0;31m# pylint:disable=broad-except\u001b[0m\u001b[0;34m\u001b[0m\u001b[0;34m\u001b[0m\u001b[0m\n\u001b[1;32m    976\u001b[0m             \u001b[0;32mif\u001b[0m \u001b[0mhasattr\u001b[0m\u001b[0;34m(\u001b[0m\u001b[0me\u001b[0m\u001b[0;34m,\u001b[0m \u001b[0;34m\"ag_error_metadata\"\u001b[0m\u001b[0;34m)\u001b[0m\u001b[0;34m:\u001b[0m\u001b[0;34m\u001b[0m\u001b[0;34m\u001b[0m\u001b[0m\n\u001b[0;32m--> 977\u001b[0;31m               \u001b[0;32mraise\u001b[0m \u001b[0me\u001b[0m\u001b[0;34m.\u001b[0m\u001b[0mag_error_metadata\u001b[0m\u001b[0;34m.\u001b[0m\u001b[0mto_exception\u001b[0m\u001b[0;34m(\u001b[0m\u001b[0me\u001b[0m\u001b[0;34m)\u001b[0m\u001b[0;34m\u001b[0m\u001b[0;34m\u001b[0m\u001b[0m\n\u001b[0m\u001b[1;32m    978\u001b[0m             \u001b[0;32melse\u001b[0m\u001b[0;34m:\u001b[0m\u001b[0;34m\u001b[0m\u001b[0;34m\u001b[0m\u001b[0m\n\u001b[1;32m    979\u001b[0m               \u001b[0;32mraise\u001b[0m\u001b[0;34m\u001b[0m\u001b[0;34m\u001b[0m\u001b[0m\n",
            "\u001b[0;31mInvalidArgumentError\u001b[0m: in user code:\n\n    /usr/local/lib/python3.7/dist-packages/tensorflow/python/keras/engine/training.py:805 train_function  *\n        return step_function(self, iterator)\n    <ipython-input-36-4fcdc7299f52>:4 custom_loss  *\n        print(type(y_actual.eval()))\n    /usr/local/lib/python3.7/dist-packages/tensorflow/python/framework/ops.py:921 eval  **\n        return _eval_using_default_session(self, feed_dict, self.graph, session)\n    /usr/local/lib/python3.7/dist-packages/tensorflow/python/framework/ops.py:5512 _eval_using_default_session\n        return session.run(tensors, feed_dict)\n    /usr/local/lib/python3.7/dist-packages/tensorflow/python/client/session.py:968 run\n        run_metadata_ptr)\n    /usr/local/lib/python3.7/dist-packages/tensorflow/python/client/session.py:1191 _run\n        feed_dict_tensor, options, run_metadata)\n    /usr/local/lib/python3.7/dist-packages/tensorflow/python/client/session.py:1369 _do_run\n        run_metadata)\n    /usr/local/lib/python3.7/dist-packages/tensorflow/python/client/session.py:1394 _do_call\n        raise type(e)(node_def, op, message)\n\n    InvalidArgumentError: You must feed a value for placeholder tensor 'iterator' with dtype resource\n    \t [[node iterator (defined at <ipython-input-37-e85678ca98d7>:5) ]]\n    \n    Original stack trace for 'iterator':\n      File \"/usr/lib/python3.7/runpy.py\", line 193, in _run_module_as_main\n        \"__main__\", mod_spec)\n      File \"/usr/lib/python3.7/runpy.py\", line 85, in _run_code\n        exec(code, run_globals)\n      File \"/usr/local/lib/python3.7/dist-packages/ipykernel_launcher.py\", line 16, in <module>\n        app.launch_new_instance()\n      File \"/usr/local/lib/python3.7/dist-packages/traitlets/config/application.py\", line 845, in launch_instance\n        app.start()\n      File \"/usr/local/lib/python3.7/dist-packages/ipykernel/kernelapp.py\", line 499, in start\n        self.io_loop.start()\n      File \"/usr/local/lib/python3.7/dist-packages/tornado/platform/asyncio.py\", line 132, in start\n        self.asyncio_loop.run_forever()\n      File \"/usr/lib/python3.7/asyncio/base_events.py\", line 541, in run_forever\n        self._run_once()\n      File \"/usr/lib/python3.7/asyncio/base_events.py\", line 1786, in _run_once\n        handle._run()\n      File \"/usr/lib/python3.7/asyncio/events.py\", line 88, in _run\n        self._context.run(self._callback, *self._args)\n      File \"/usr/local/lib/python3.7/dist-packages/tornado/platform/asyncio.py\", line 122, in _handle_events\n        handler_func(fileobj, events)\n      File \"/usr/local/lib/python3.7/dist-packages/tornado/stack_context.py\", line 300, in null_wrapper\n        return fn(*args, **kwargs)\n      File \"/usr/local/lib/python3.7/dist-packages/zmq/eventloop/zmqstream.py\", line 451, in _handle_events\n        self._handle_recv()\n      File \"/usr/local/lib/python3.7/dist-packages/zmq/eventloop/zmqstream.py\", line 480, in _handle_recv\n        self._run_callback(callback, msg)\n      File \"/usr/local/lib/python3.7/dist-packages/zmq/eventloop/zmqstream.py\", line 434, in _run_callback\n        callback(*args, **kwargs)\n      File \"/usr/local/lib/python3.7/dist-packages/tornado/stack_context.py\", line 300, in null_wrapper\n        return fn(*args, **kwargs)\n      File \"/usr/local/lib/python3.7/dist-packages/ipykernel/kernelbase.py\", line 283, in dispatcher\n        return self.dispatch_shell(stream, msg)\n      File \"/usr/local/lib/python3.7/dist-packages/ipykernel/kernelbase.py\", line 233, in dispatch_shell\n        handler(stream, idents, msg)\n      File \"/usr/local/lib/python3.7/dist-packages/ipykernel/kernelbase.py\", line 399, in execute_request\n        user_expressions, allow_stdin)\n      File \"/usr/local/lib/python3.7/dist-packages/ipykernel/ipkernel.py\", line 208, in do_execute\n        res = shell.run_cell(code, store_history=store_history, silent=silent)\n      File \"/usr/local/lib/python3.7/dist-packages/ipykernel/zmqshell.py\", line 537, in run_cell\n        return super(ZMQInteractiveShell, self).run_cell(*args, **kwargs)\n      File \"/usr/local/lib/python3.7/dist-packages/IPython/core/interactiveshell.py\", line 2718, in run_cell\n        interactivity=interactivity, compiler=compiler, result=result)\n      File \"/usr/local/lib/python3.7/dist-packages/IPython/core/interactiveshell.py\", line 2822, in run_ast_nodes\n        if self.run_code(code, result):\n      File \"/usr/local/lib/python3.7/dist-packages/IPython/core/interactiveshell.py\", line 2882, in run_code\n        exec(code_obj, self.user_global_ns, self.user_ns)\n      File \"<ipython-input-37-e85678ca98d7>\", line 5, in <module>\n        history_dropout2 = model_dropout02.fit(trainset, epochs=10,  validation_data=validset)#, callbacks=callbacks)\n      File \"/usr/local/lib/python3.7/dist-packages/tensorflow/python/keras/engine/training.py\", line 1100, in fit\n        tmp_logs = self.train_function(iterator)\n      File \"/usr/local/lib/python3.7/dist-packages/tensorflow/python/eager/def_function.py\", line 828, in __call__\n        result = self._call(*args, **kwds)\n      File \"/usr/local/lib/python3.7/dist-packages/tensorflow/python/eager/def_function.py\", line 871, in _call\n        self._initialize(args, kwds, add_initializers_to=initializers)\n      File \"/usr/local/lib/python3.7/dist-packages/tensorflow/python/eager/def_function.py\", line 726, in _initialize\n        *args, **kwds))\n      File \"/usr/local/lib/python3.7/dist-packages/tensorflow/python/eager/function.py\", line 2969, in _get_concrete_function_internal_garbage_collected\n        graph_function, _ = self._maybe_define_function(args, kwargs)\n      File \"/usr/local/lib/python3.7/dist-packages/tensorflow/python/eager/function.py\", line 3361, in _maybe_define_function\n        graph_function = self._create_graph_function(args, kwargs)\n      File \"/usr/local/lib/python3.7/dist-packages/tensorflow/python/eager/function.py\", line 3206, in _create_graph_function\n        capture_by_value=self._capture_by_value),\n      File \"/usr/local/lib/python3.7/dist-packages/tensorflow/python/framework/func_graph.py\", line 907, in func_graph_from_py_func\n        args, arg_names, flat_shapes=arg_shapes)\n      File \"/usr/local/lib/python3.7/dist-packages/tensorflow/python/framework/func_graph.py\", line 1143, in _get_defun_inputs_from_args\n        args, names, structure=args, flat_shapes=flat_shapes)\n      File \"/usr/local/lib/python3.7/dist-packages/tensorflow/python/framework/func_graph.py\", line 1217, in _get_defun_inputs\n        name=requested_name)\n      File \"/usr/local/lib/python3.7/dist-packages/tensorflow/python/eager/graph_only_ops.py\", line 40, in graph_placeholder\n        attrs=attrs, name=name)\n      File \"/usr/local/lib/python3.7/dist-packages/tensorflow/python/framework/func_graph.py\", line 592, in _create_op_internal\n        compute_device)\n      File \"/usr/local/lib/python3.7/dist-packages/tensorflow/python/framework/ops.py\", line 3536, in _create_op_internal\n        op_def=op_def)\n      File \"/usr/local/lib/python3.7/dist-packages/tensorflow/python/framework/ops.py\", line 1990, in __init__\n        self._traceback = tf_stack.extract_stack()\n    \n\n\nOriginal stack trace for 'iterator':\n  File \"/usr/lib/python3.7/runpy.py\", line 193, in _run_module_as_main\n    \"__main__\", mod_spec)\n  File \"/usr/lib/python3.7/runpy.py\", line 85, in _run_code\n    exec(code, run_globals)\n  File \"/usr/local/lib/python3.7/dist-packages/ipykernel_launcher.py\", line 16, in <module>\n    app.launch_new_instance()\n  File \"/usr/local/lib/python3.7/dist-packages/traitlets/config/application.py\", line 845, in launch_instance\n    app.start()\n  File \"/usr/local/lib/python3.7/dist-packages/ipykernel/kernelapp.py\", line 499, in start\n    self.io_loop.start()\n  File \"/usr/local/lib/python3.7/dist-packages/tornado/platform/asyncio.py\", line 132, in start\n    self.asyncio_loop.run_forever()\n  File \"/usr/lib/python3.7/asyncio/base_events.py\", line 541, in run_forever\n    self._run_once()\n  File \"/usr/lib/python3.7/asyncio/base_events.py\", line 1786, in _run_once\n    handle._run()\n  File \"/usr/lib/python3.7/asyncio/events.py\", line 88, in _run\n    self._context.run(self._callback, *self._args)\n  File \"/usr/local/lib/python3.7/dist-packages/tornado/platform/asyncio.py\", line 122, in _handle_events\n    handler_func(fileobj, events)\n  File \"/usr/local/lib/python3.7/dist-packages/tornado/stack_context.py\", line 300, in null_wrapper\n    return fn(*args, **kwargs)\n  File \"/usr/local/lib/python3.7/dist-packages/zmq/eventloop/zmqstream.py\", line 451, in _handle_events\n    self._handle_recv()\n  File \"/usr/local/lib/python3.7/dist-packages/zmq/eventloop/zmqstream.py\", line 480, in _handle_recv\n    self._run_callback(callback, msg)\n  File \"/usr/local/lib/python3.7/dist-packages/zmq/eventloop/zmqstream.py\", line 434, in _run_callback\n    callback(*args, **kwargs)\n  File \"/usr/local/lib/python3.7/dist-packages/tornado/stack_context.py\", line 300, in null_wrapper\n    return fn(*args, **kwargs)\n  File \"/usr/local/lib/python3.7/dist-packages/ipykernel/kernelbase.py\", line 283, in dispatcher\n    return self.dispatch_shell(stream, msg)\n  File \"/usr/local/lib/python3.7/dist-packages/ipykernel/kernelbase.py\", line 233, in dispatch_shell\n    handler(stream, idents, msg)\n  File \"/usr/local/lib/python3.7/dist-packages/ipykernel/kernelbase.py\", line 399, in execute_request\n    user_expressions, allow_stdin)\n  File \"/usr/local/lib/python3.7/dist-packages/ipykernel/ipkernel.py\", line 208, in do_execute\n    res = shell.run_cell(code, store_history=store_history, silent=silent)\n  File \"/usr/local/lib/python3.7/dist-packages/ipykernel/zmqshell.py\", line 537, in run_cell\n    return super(ZMQInteractiveShell, self).run_cell(*args, **kwargs)\n  File \"/usr/local/lib/python3.7/dist-packages/IPython/core/interactiveshell.py\", line 2718, in run_cell\n    interactivity=interactivity, compiler=compiler, result=result)\n  File \"/usr/local/lib/python3.7/dist-packages/IPython/core/interactiveshell.py\", line 2822, in run_ast_nodes\n    if self.run_code(code, result):\n  File \"/usr/local/lib/python3.7/dist-packages/IPython/core/interactiveshell.py\", line 2882, in run_code\n    exec(code_obj, self.user_global_ns, self.user_ns)\n  File \"<ipython-input-37-e85678ca98d7>\", line 5, in <module>\n    history_dropout2 = model_dropout02.fit(trainset, epochs=10,  validation_data=validset)#, callbacks=callbacks)\n  File \"/usr/local/lib/python3.7/dist-packages/tensorflow/python/keras/engine/training.py\", line 1100, in fit\n    tmp_logs = self.train_function(iterator)\n  File \"/usr/local/lib/python3.7/dist-packages/tensorflow/python/eager/def_function.py\", line 828, in __call__\n    result = self._call(*args, **kwds)\n  File \"/usr/local/lib/python3.7/dist-packages/tensorflow/python/eager/def_function.py\", line 871, in _call\n    self._initialize(args, kwds, add_initializers_to=initializers)\n  File \"/usr/local/lib/python3.7/dist-packages/tensorflow/python/eager/def_function.py\", line 726, in _initialize\n    *args, **kwds))\n  File \"/usr/local/lib/python3.7/dist-packages/tensorflow/python/eager/function.py\", line 2969, in _get_concrete_function_internal_garbage_collected\n    graph_function, _ = self._maybe_define_function(args, kwargs)\n  File \"/usr/local/lib/python3.7/dist-packages/tensorflow/python/eager/function.py\", line 3361, in _maybe_define_function\n    graph_function = self._create_graph_function(args, kwargs)\n  File \"/usr/local/lib/python3.7/dist-packages/tensorflow/python/eager/function.py\", line 3206, in _create_graph_function\n    capture_by_value=self._capture_by_value),\n  File \"/usr/local/lib/python3.7/dist-packages/tensorflow/python/framework/func_graph.py\", line 907, in func_graph_from_py_func\n    args, arg_names, flat_shapes=arg_shapes)\n  File \"/usr/local/lib/python3.7/dist-packages/tensorflow/python/framework/func_graph.py\", line 1143, in _get_defun_inputs_from_args\n    args, names, structure=args, flat_shapes=flat_shapes)\n  File \"/usr/local/lib/python3.7/dist-packages/tensorflow/python/framework/func_graph.py\", line 1217, in _get_defun_inputs\n    name=requested_name)\n  File \"/usr/local/lib/python3.7/dist-packages/tensorflow/python/eager/graph_only_ops.py\", line 40, in graph_placeholder\n    attrs=attrs, name=name)\n  File \"/usr/local/lib/python3.7/dist-packages/tensorflow/python/framework/func_graph.py\", line 592, in _create_op_internal\n    compute_device)\n  File \"/usr/local/lib/python3.7/dist-packages/tensorflow/python/framework/ops.py\", line 3536, in _create_op_internal\n    op_def=op_def)\n  File \"/usr/local/lib/python3.7/dist-packages/tensorflow/python/framework/ops.py\", line 1990, in __init__\n    self._traceback = tf_stack.extract_stack()\n"
          ]
        }
      ]
    },
    {
      "cell_type": "code",
      "metadata": {
        "colab": {
          "base_uri": "https://localhost:8080/"
        },
        "id": "0dmGbalfBMuS",
        "outputId": "bf39d56f-1831-4b64-9aaa-3065e6793306"
      },
      "source": [
        "tf.se"
      ],
      "execution_count": 745,
      "outputs": [
        {
          "output_type": "stream",
          "text": [
            "({'buyerId': <tf.Tensor: shape=(32,), dtype=int64, numpy=\n",
            "array([1458, 1144, 1433,  739,  924,  522,  607,  765,  107, 1170,  559,\n",
            "        929,  935,  855,  186,  630,  739, 1184, 1473,   84, 1336,  765,\n",
            "       1353, 1308,  924,   61,  887, 1353,  410, 1310,  833,  287])>, 'tokenId': <tf.Tensor: shape=(32,), dtype=int64, numpy=\n",
            "array([ 4381,  8250,  7067, 14848,  1879,  1701, 16745,   199, 17815,\n",
            "        4512,  9775,  6952, 16915, 10327,  5946,  5711,  8077,  8860,\n",
            "        1558, 13234, 16899,  3412,  7858,  2422,  3175,  2948, 17527,\n",
            "        6164,   273, 10782,  2691, 13556])>}, <tf.Tensor: shape=(32,), dtype=int64, numpy=\n",
            "array([0, 0, 0, 0, 0, 0, 0, 3, 1, 2, 0, 3, 0, 0, 1, 0, 0, 6, 0, 0, 0, 8,\n",
            "       0, 1, 0, 0, 0, 0, 0, 0, 0, 0])>)\n"
          ],
          "name": "stdout"
        }
      ]
    },
    {
      "cell_type": "code",
      "metadata": {
        "id": "vQ7uN0zRE6Ni"
      },
      "source": [
        ""
      ],
      "execution_count": null,
      "outputs": []
    }
  ]
}